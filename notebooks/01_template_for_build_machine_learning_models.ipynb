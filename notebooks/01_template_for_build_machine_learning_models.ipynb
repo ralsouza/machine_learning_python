{
  "nbformat": 4,
  "nbformat_minor": 0,
  "metadata": {
    "colab": {
      "name": "01_template_for_build_machine_learning_models.ipynb",
      "provenance": [],
      "collapsed_sections": [],
      "authorship_tag": "ABX9TyNjDRlQhsNZpT2ija4qeDav",
      "include_colab_link": true
    },
    "kernelspec": {
      "name": "python3",
      "display_name": "Python 3"
    }
  },
  "cells": [
    {
      "cell_type": "markdown",
      "metadata": {
        "id": "view-in-github",
        "colab_type": "text"
      },
      "source": [
        "<a href=\"https://colab.research.google.com/github/ralsouza/machine_learning_python/blob/master/notebooks/01_template_for_build_machine_learning_models.ipynb\" target=\"_parent\"><img src=\"https://colab.research.google.com/assets/colab-badge.svg\" alt=\"Open In Colab\"/></a>"
      ]
    },
    {
      "cell_type": "markdown",
      "metadata": {
        "id": "zH21-jI6nbwS",
        "colab_type": "text"
      },
      "source": [
        "# Linear Regression"
      ]
    },
    {
      "cell_type": "code",
      "metadata": {
        "id": "TnbfssQgl4Yp",
        "colab_type": "code",
        "colab": {}
      },
      "source": [
        "# Import library\n",
        "from sklearn import linear_model\n",
        "\n",
        "# Train and Test datasets\n",
        "x_train = train_dataset_predictor_variables\n",
        "y_train = train_dataset_outcome_variables\n",
        "x_test = test_dataset_predictor_variables\n",
        "\n",
        "# Make a linear regression object\n",
        "linear = linear_model.LinearRegression()\n",
        "\n",
        "# Training the model with train data and checking the score\n",
        "linear.fit(x_train,y_train)\n",
        "linear.score(x_train,y_train)\n",
        "\n",
        "# Collecting coeficients\n",
        "print('Coeficients: \\n', linear.coef_)\n",
        "print('Intercept: \\n', linear.Intercept_)\n",
        "\n",
        "# Prediction\n",
        "predict_values = linear.predict(x_test)"
      ],
      "execution_count": 1,
      "outputs": []
    },
    {
      "cell_type": "markdown",
      "metadata": {
        "id": "X_BoKLQPp9gh",
        "colab_type": "text"
      },
      "source": [
        "# Logistic Regression"
      ]
    },
    {
      "cell_type": "code",
      "metadata": {
        "id": "WfawpYS1nljC",
        "colab_type": "code",
        "colab": {}
      },
      "source": [
        "# Import library\n",
        "from sklearn import LogisticRegression\n",
        "\n",
        "# Train and Test datasets\n",
        "x_train = train_dataset_predictor_variables\n",
        "y_train = train_dataset_outcome_variables\n",
        "x_test = test_dataset_predictor_variables\n",
        "\n",
        "# Make a linear logistic regression object\n",
        "linear = LogisticRegression()\n",
        "\n",
        "# Training the model with train data and checking the score\n",
        "linear.fit(x_train,y_train)\n",
        "linear.score(x_train,y_train)\n",
        "\n",
        "# Collecting coeficients\n",
        "print('Coeficients: \\n', linear.coef_)\n",
        "print('Intercept: \\n', linear.Intercept_)\n",
        "\n",
        "# Prediction\n",
        "predict_values = linear.predict(x_test)"
      ],
      "execution_count": null,
      "outputs": []
    },
    {
      "cell_type": "markdown",
      "metadata": {
        "id": "deUlFJCPqWxs",
        "colab_type": "text"
      },
      "source": [
        "# Decision Tree"
      ]
    },
    {
      "cell_type": "code",
      "metadata": {
        "id": "orkwxTlJqZe6",
        "colab_type": "code",
        "colab": {}
      },
      "source": [
        "# Import library\n",
        "from sklearn import tree\n",
        "\n",
        "# Train and Test datasets\n",
        "x_train = train_dataset_predictor_variables\n",
        "y_train = train_dataset_outcome_variables\n",
        "x_test = test_dataset_predictor_variables\n",
        "\n",
        "# Make a tree regression object\n",
        "model = tree.DecisionTreeRegression()\n",
        "\n",
        "# Make a tree classifier object\n",
        "model = tree.DecisionTreeClassifier()\n",
        "\n",
        "# Training the model with train data and checking the score\n",
        "model.fit(x_train,y_train)\n",
        "model.score(x_train,y_train)\n",
        "\n",
        "# Collecting coeficients\n",
        "print('Coeficients: \\n', model.coef_)\n",
        "print('Intercept: \\n', model.Intercept_)\n",
        "\n",
        "# Prediction\n",
        "predict_values = model.predict(x_test)"
      ],
      "execution_count": null,
      "outputs": []
    },
    {
      "cell_type": "markdown",
      "metadata": {
        "id": "a1_PSek4sCP_",
        "colab_type": "text"
      },
      "source": [
        "# Naive Bayes"
      ]
    },
    {
      "cell_type": "code",
      "metadata": {
        "id": "eAuI7aK2sect",
        "colab_type": "code",
        "colab": {}
      },
      "source": [
        "# Import library\n",
        "from sklearn.naive_bayes import GaussianNB\n",
        "\n",
        "# Train and Test datasets\n",
        "x_train = train_dataset_predictor_variables\n",
        "y_train = train_dataset_outcome_variables\n",
        "x_test = test_dataset_predictor_variables\n",
        "\n",
        "# Make a Gaussian object\n",
        "model = GaussianNB()\n",
        "\n",
        "# Make a tree classifier object\n",
        "model = tree.DecisionTreeClassifier()\n",
        "\n",
        "# Training the model with train data\n",
        "model.fit(x_train,y_train)\n",
        "\n",
        "# Prediction\n",
        "predict_values = model.predict(x_test)"
      ],
      "execution_count": null,
      "outputs": []
    },
    {
      "cell_type": "markdown",
      "metadata": {
        "id": "hwMuejY0tQpE",
        "colab_type": "text"
      },
      "source": [
        "# Support Vector Machines"
      ]
    },
    {
      "cell_type": "code",
      "metadata": {
        "id": "WInVB8UMtTE_",
        "colab_type": "code",
        "colab": {}
      },
      "source": [
        "# Import library\n",
        "from sklearn.naive_bayes import svm\n",
        "\n",
        "# Train and Test datasets\n",
        "x_train = train_dataset_predictor_variables\n",
        "y_train = train_dataset_outcome_variables\n",
        "x_test = test_dataset_predictor_variables\n",
        "\n",
        "# Make a classifier SVM object\n",
        "model = svm.svc()\n",
        "\n",
        "# Make a regressor SVM object\n",
        "model = svm.svr()\n",
        "\n",
        "# Training the model with train data and checking the score\n",
        "model.fit(x_train,y_train)\n",
        "model.score(x_train,y_train)\n",
        "\n",
        "# Collecting coeficients\n",
        "print('Coeficients: \\n', model.coef_)\n",
        "print('Intercept: \\n', model.Intercept_)\n",
        "\n",
        "# Prediction\n",
        "predict_values = model.predict(x_test)"
      ],
      "execution_count": null,
      "outputs": []
    },
    {
      "cell_type": "markdown",
      "metadata": {
        "id": "14jDGM1HuXQj",
        "colab_type": "text"
      },
      "source": [
        "# K-Nearest Neighbors (KNN)"
      ]
    },
    {
      "cell_type": "code",
      "metadata": {
        "id": "DWstVKfJud1f",
        "colab_type": "code",
        "colab": {}
      },
      "source": [
        "# Import library\n",
        "from sklearn.neighbors import KNeighborsClassifier\n",
        "\n",
        "# Train and Test datasets\n",
        "x_train = train_dataset_predictor_variables\n",
        "y_train = train_dataset_outcome_variables\n",
        "x_test = test_dataset_predictor_variables\n",
        "\n",
        "# Make a KNN classifier\n",
        "model = KNeighborsClassifier(n_neighbor=6) # default is 5\n",
        "\n",
        "# Training the model with train data\n",
        "model.fit(x_train,y_train)\n",
        "\n",
        "# Prediction\n",
        "predict_values = model.predict(x_test)"
      ],
      "execution_count": null,
      "outputs": []
    },
    {
      "cell_type": "markdown",
      "metadata": {
        "id": "IFQVwbpEvDly",
        "colab_type": "text"
      },
      "source": [
        "# K-Means\n",
        "Unsupervised learning."
      ]
    },
    {
      "cell_type": "code",
      "metadata": {
        "id": "g0tZtVy7vFHo",
        "colab_type": "code",
        "colab": {}
      },
      "source": [
        "# Import library\n",
        "from sklearn.cluster import KMeans\n",
        "\n",
        "# Train and Test datasets\n",
        "x_train = train_dataset_predictor_variables\n",
        "y_train = train_dataset_outcome_variables\n",
        "x_test = test_dataset_predictor_variables\n",
        "\n",
        "# Make a model object\n",
        "model = KMeans(n_clusters=3,random_state=0)\n",
        "\n",
        "# Training the model with train data\n",
        "model.fit(x_train,y_train)\n",
        "\n",
        "# Prediction\n",
        "predict_values = model.predict(x_test)"
      ],
      "execution_count": null,
      "outputs": []
    },
    {
      "cell_type": "markdown",
      "metadata": {
        "id": "NG3X1JLGv2J5",
        "colab_type": "text"
      },
      "source": [
        "# Random Forest"
      ]
    },
    {
      "cell_type": "code",
      "metadata": {
        "id": "GavNlEWIv4Si",
        "colab_type": "code",
        "colab": {}
      },
      "source": [
        "# Import library\n",
        "from sklearn.ensemble import RandomForestClassifier\n",
        "\n",
        "# Train and Test datasets\n",
        "x_train = train_dataset_predictor_variables\n",
        "y_train = train_dataset_outcome_variables\n",
        "x_test = test_dataset_predictor_variables\n",
        "\n",
        "# Make a model object\n",
        "model = RandomForestClassifier()\n",
        "\n",
        "# Training the model with train data\n",
        "model.fit(x_train,y_train)\n",
        "\n",
        "# Prediction\n",
        "predict_values = model.predict(x_test)"
      ],
      "execution_count": null,
      "outputs": []
    },
    {
      "cell_type": "markdown",
      "metadata": {
        "id": "cJKrziS9wHUt",
        "colab_type": "text"
      },
      "source": [
        "# Dimensionality Reduction"
      ]
    },
    {
      "cell_type": "code",
      "metadata": {
        "id": "2iwANu1GwQhH",
        "colab_type": "code",
        "colab": {}
      },
      "source": [
        "# Import library\n",
        "from sklearn import decomposition\n",
        "\n",
        "# Train and Test datasets\n",
        "x_train = train_dataset_predictor_variables\n",
        "y_train = train_dataset_outcome_variables\n",
        "x_test = test_dataset_predictor_variables\n",
        "\n",
        "# Make a PCA object\n",
        "pca = decomposition.PCA(n_components = k)\n",
        "\n",
        "# Analysis factor\n",
        "af = decomposition.FactorAnalysis()\n",
        "\n",
        "# Reducing the dimension of train dataset using PCA\n",
        "reduced_train = pca.fit_transformation(x_train)\n",
        "\n",
        "# Reducing the dimension of test dataset using PCA\n",
        "reduced_test = pca.fit_transformation(x_test)"
      ],
      "execution_count": null,
      "outputs": []
    },
    {
      "cell_type": "markdown",
      "metadata": {
        "id": "5pM3_I_nxSKY",
        "colab_type": "text"
      },
      "source": [
        "# Gradient Boosting & AdaBoost"
      ]
    },
    {
      "cell_type": "code",
      "metadata": {
        "id": "wMZ0TJCyxWtr",
        "colab_type": "code",
        "colab": {}
      },
      "source": [
        "# Import library\n",
        "from sklearn.ensemble import GradientBoostingClassifier\n",
        "\n",
        "# Train and Test datasets\n",
        "x_train = train_dataset_predictor_variables\n",
        "y_train = train_dataset_outcome_variables\n",
        "x_test = test_dataset_predictor_variables\n",
        "\n",
        "# Make a model object\n",
        "model = GradientBoostingClassifier(n_estimators=100,learning_rate=1.0,max_depht=1,random_state=0)\n",
        "\n",
        "# Training the model with train data\n",
        "model.fit(x_train,y_train)\n",
        "\n",
        "# Prediction\n",
        "predict_values = model.predict(x_test)"
      ],
      "execution_count": null,
      "outputs": []
    }
  ]
}