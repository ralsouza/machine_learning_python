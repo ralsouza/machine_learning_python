{
  "nbformat": 4,
  "nbformat_minor": 0,
  "metadata": {
    "colab": {
      "name": "02_defining_business_problem.ipynb",
      "provenance": [],
      "collapsed_sections": [],
      "authorship_tag": "ABX9TyPJr0PqnYTqI/t60H4oBVPG",
      "include_colab_link": true
    },
    "kernelspec": {
      "name": "python3",
      "display_name": "Python 3"
    }
  },
  "cells": [
    {
      "cell_type": "markdown",
      "metadata": {
        "id": "view-in-github",
        "colab_type": "text"
      },
      "source": [
        "<a href=\"https://colab.research.google.com/github/ralsouza/machine_learning_python/blob/master/notebooks/02_defining_business_problem.ipynb\" target=\"_parent\"><img src=\"https://colab.research.google.com/assets/colab-badge.svg\" alt=\"Open In Colab\"/></a>"
      ]
    },
    {
      "cell_type": "markdown",
      "metadata": {
        "id": "dqUvY_fazYxM",
        "colab_type": "text"
      },
      "source": [
        "# Defining business problem\n",
        "Let's go create a predictive model that's able to predict whether or not a patient has diabetes. To do this, we'll use historical data from patients.\n",
        "\n",
        "We'll use the dataset [Diabetes Data Set](http://archive.ics.uci.edu/ml/datasets/diabetes)\n",
        "\n",
        "\n",
        "This dataset describes the medical records of patients from Pima Indians and each record was marqued whether the patient develop diabetes or not.\n",
        "\n",
        "\n",
        "**Informações sobre os atributos:**\n",
        "\n",
        "1. Number of times pregnant\n",
        "2. Plasma glucose concentration a 2 hours in an oral glucose tolerance test\n",
        "3. Diastolic blood pressure (mm Hg)\n",
        "4. Triceps skin fold thickness (mm)\n",
        "5. 2-Hour serum insulin (mu U/ml)\n",
        "6. Body mass index (weight in kg/(height in m)^2)\n",
        "7. Diabetes pedigree function\n",
        "8. Age (years)\n",
        "9. Class variable (0 or 1)"
      ]
    },
    {
      "cell_type": "code",
      "metadata": {
        "id": "SQfPc38RzIsQ",
        "colab_type": "code",
        "colab": {}
      },
      "source": [
        ""
      ],
      "execution_count": null,
      "outputs": []
    }
  ]
}