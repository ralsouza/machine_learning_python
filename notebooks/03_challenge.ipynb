{
  "nbformat": 4,
  "nbformat_minor": 0,
  "metadata": {
    "colab": {
      "name": "03_challenge.ipynb",
      "provenance": [],
      "collapsed_sections": [],
      "authorship_tag": "ABX9TyPFSPvGLACKMQ7EHrJi4SQp",
      "include_colab_link": true
    },
    "kernelspec": {
      "name": "python3",
      "display_name": "Python 3"
    }
  },
  "cells": [
    {
      "cell_type": "markdown",
      "metadata": {
        "id": "view-in-github",
        "colab_type": "text"
      },
      "source": [
        "<a href=\"https://colab.research.google.com/github/ralsouza/machine_learning_python/blob/master/notebooks/03_challenge.ipynb\" target=\"_parent\"><img src=\"https://colab.research.google.com/assets/colab-badge.svg\" alt=\"Open In Colab\"/></a>"
      ]
    },
    {
      "cell_type": "markdown",
      "metadata": {
        "id": "bKfG1b1TZYEE",
        "colab_type": "text"
      },
      "source": [
        "# Predictive classification model to predict the binary variable value (true or false) from numeric data."
      ]
    },
    {
      "cell_type": "code",
      "metadata": {
        "id": "0P7Ml1OLZEy7",
        "colab_type": "code",
        "colab": {}
      },
      "source": [
        "# Import modules\n",
        "import numpy as np\n",
        "import pandas as pd\n",
        "from sklearn.decomposition import PCA\n",
        "from sklearn.pipeline import Pipeline\n",
        "from sklearn.linear_model import LogisticRegression\n",
        "import warnings\n",
        "warnings.filterwarnings(\"ignore\")"
      ],
      "execution_count": 1,
      "outputs": []
    },
    {
      "cell_type": "code",
      "metadata": {
        "id": "rmMYVbyDZ7TX",
        "colab_type": "code",
        "colab": {}
      },
      "source": [
        "# Train data\n",
        "n_train = 10\n",
        "np.random.seed(0)\n",
        "df_train = pd.DataFrame({\"var1\": np.random.random(n_train), \\\n",
        "                         \"var2\": np.random.random(n_train), \\\n",
        "                         \"var3\": np.random.random(n_train), \\\n",
        "                         \"var4\": np.random.randint(0,2,n_train).astype(bool),\\\n",
        "                         \"target\": np.random.randint(0,2,n_train).astype(bool)})"
      ],
      "execution_count": 3,
      "outputs": []
    },
    {
      "cell_type": "code",
      "metadata": {
        "id": "KcIlZIzgkHEl",
        "colab_type": "code",
        "colab": {
          "base_uri": "https://localhost:8080/",
          "height": 34
        },
        "outputId": "2823ee20-6cd7-41b5-df27-cbc7dbf9b08b"
      },
      "source": [
        "df_train.shape"
      ],
      "execution_count": 23,
      "outputs": [
        {
          "output_type": "execute_result",
          "data": {
            "text/plain": [
              "(10, 5)"
            ]
          },
          "metadata": {
            "tags": []
          },
          "execution_count": 23
        }
      ]
    },
    {
      "cell_type": "code",
      "metadata": {
        "id": "pZ0H_GtdkzUs",
        "colab_type": "code",
        "colab": {
          "base_uri": "https://localhost:8080/",
          "height": 204
        },
        "outputId": "95d5c125-abed-41c2-c933-8f23b8d0b6de"
      },
      "source": [
        "df_train.head()"
      ],
      "execution_count": 24,
      "outputs": [
        {
          "output_type": "execute_result",
          "data": {
            "text/html": [
              "<div>\n",
              "<style scoped>\n",
              "    .dataframe tbody tr th:only-of-type {\n",
              "        vertical-align: middle;\n",
              "    }\n",
              "\n",
              "    .dataframe tbody tr th {\n",
              "        vertical-align: top;\n",
              "    }\n",
              "\n",
              "    .dataframe thead th {\n",
              "        text-align: right;\n",
              "    }\n",
              "</style>\n",
              "<table border=\"1\" class=\"dataframe\">\n",
              "  <thead>\n",
              "    <tr style=\"text-align: right;\">\n",
              "      <th></th>\n",
              "      <th>var1</th>\n",
              "      <th>var2</th>\n",
              "      <th>var3</th>\n",
              "      <th>var4</th>\n",
              "      <th>target</th>\n",
              "    </tr>\n",
              "  </thead>\n",
              "  <tbody>\n",
              "    <tr>\n",
              "      <th>0</th>\n",
              "      <td>0.548814</td>\n",
              "      <td>0.791725</td>\n",
              "      <td>0.978618</td>\n",
              "      <td>True</td>\n",
              "      <td>True</td>\n",
              "    </tr>\n",
              "    <tr>\n",
              "      <th>1</th>\n",
              "      <td>0.715189</td>\n",
              "      <td>0.528895</td>\n",
              "      <td>0.799159</td>\n",
              "      <td>False</td>\n",
              "      <td>True</td>\n",
              "    </tr>\n",
              "    <tr>\n",
              "      <th>2</th>\n",
              "      <td>0.602763</td>\n",
              "      <td>0.568045</td>\n",
              "      <td>0.461479</td>\n",
              "      <td>True</td>\n",
              "      <td>False</td>\n",
              "    </tr>\n",
              "    <tr>\n",
              "      <th>3</th>\n",
              "      <td>0.544883</td>\n",
              "      <td>0.925597</td>\n",
              "      <td>0.780529</td>\n",
              "      <td>False</td>\n",
              "      <td>False</td>\n",
              "    </tr>\n",
              "    <tr>\n",
              "      <th>4</th>\n",
              "      <td>0.423655</td>\n",
              "      <td>0.071036</td>\n",
              "      <td>0.118274</td>\n",
              "      <td>True</td>\n",
              "      <td>False</td>\n",
              "    </tr>\n",
              "  </tbody>\n",
              "</table>\n",
              "</div>"
            ],
            "text/plain": [
              "       var1      var2      var3   var4  target\n",
              "0  0.548814  0.791725  0.978618   True    True\n",
              "1  0.715189  0.528895  0.799159  False    True\n",
              "2  0.602763  0.568045  0.461479   True   False\n",
              "3  0.544883  0.925597  0.780529  False   False\n",
              "4  0.423655  0.071036  0.118274   True   False"
            ]
          },
          "metadata": {
            "tags": []
          },
          "execution_count": 24
        }
      ]
    },
    {
      "cell_type": "code",
      "metadata": {
        "id": "mvtNOOBZaV0-",
        "colab_type": "code",
        "colab": {}
      },
      "source": [
        "# Test data\n",
        "n_test = 3\n",
        "np.random.seed(1)\n",
        "df_test = pd.DataFrame({\"var1\": np.random.random(n_test), \\\n",
        "                        \"var2\": np.random.random(n_test), \\\n",
        "                        \"var3\": np.random.random(n_test), \\\n",
        "                        \"var4\": np.random.randint(0,2,n_test).astype(bool),\\\n",
        "                        \"target\": np.random.randint(0,2,n_test).astype(bool)})\n"
      ],
      "execution_count": 5,
      "outputs": []
    },
    {
      "cell_type": "code",
      "metadata": {
        "id": "zF6lHIQhk3ru",
        "colab_type": "code",
        "colab": {
          "base_uri": "https://localhost:8080/",
          "height": 34
        },
        "outputId": "e9a162c9-d0ed-4f9e-d7b3-47409f6ab830"
      },
      "source": [
        "df_test.shape"
      ],
      "execution_count": 25,
      "outputs": [
        {
          "output_type": "execute_result",
          "data": {
            "text/plain": [
              "(3, 5)"
            ]
          },
          "metadata": {
            "tags": []
          },
          "execution_count": 25
        }
      ]
    },
    {
      "cell_type": "code",
      "metadata": {
        "id": "HRQRQIswf80z",
        "colab_type": "code",
        "colab": {
          "base_uri": "https://localhost:8080/",
          "height": 142
        },
        "outputId": "1bc11486-d0d7-449a-8298-e10df688071c"
      },
      "source": [
        "df_test.head()"
      ],
      "execution_count": 6,
      "outputs": [
        {
          "output_type": "execute_result",
          "data": {
            "text/html": [
              "<div>\n",
              "<style scoped>\n",
              "    .dataframe tbody tr th:only-of-type {\n",
              "        vertical-align: middle;\n",
              "    }\n",
              "\n",
              "    .dataframe tbody tr th {\n",
              "        vertical-align: top;\n",
              "    }\n",
              "\n",
              "    .dataframe thead th {\n",
              "        text-align: right;\n",
              "    }\n",
              "</style>\n",
              "<table border=\"1\" class=\"dataframe\">\n",
              "  <thead>\n",
              "    <tr style=\"text-align: right;\">\n",
              "      <th></th>\n",
              "      <th>var1</th>\n",
              "      <th>var2</th>\n",
              "      <th>var3</th>\n",
              "      <th>var4</th>\n",
              "      <th>target</th>\n",
              "    </tr>\n",
              "  </thead>\n",
              "  <tbody>\n",
              "    <tr>\n",
              "      <th>0</th>\n",
              "      <td>0.417022</td>\n",
              "      <td>0.302333</td>\n",
              "      <td>0.186260</td>\n",
              "      <td>False</td>\n",
              "      <td>True</td>\n",
              "    </tr>\n",
              "    <tr>\n",
              "      <th>1</th>\n",
              "      <td>0.720324</td>\n",
              "      <td>0.146756</td>\n",
              "      <td>0.345561</td>\n",
              "      <td>False</td>\n",
              "      <td>False</td>\n",
              "    </tr>\n",
              "    <tr>\n",
              "      <th>2</th>\n",
              "      <td>0.000114</td>\n",
              "      <td>0.092339</td>\n",
              "      <td>0.396767</td>\n",
              "      <td>False</td>\n",
              "      <td>False</td>\n",
              "    </tr>\n",
              "  </tbody>\n",
              "</table>\n",
              "</div>"
            ],
            "text/plain": [
              "       var1      var2      var3   var4  target\n",
              "0  0.417022  0.302333  0.186260  False    True\n",
              "1  0.720324  0.146756  0.345561  False   False\n",
              "2  0.000114  0.092339  0.396767  False   False"
            ]
          },
          "metadata": {
            "tags": []
          },
          "execution_count": 6
        }
      ]
    },
    {
      "cell_type": "markdown",
      "metadata": {
        "id": "E3U503bhasdJ",
        "colab_type": "text"
      },
      "source": [
        "# Crie um modelo com PCA para redução de dimensionalidade com 3 componentes"
      ]
    },
    {
      "cell_type": "code",
      "metadata": {
        "id": "INqX7QcAawWk",
        "colab_type": "code",
        "colab": {}
      },
      "source": [
        "pca = PCA(n_components = 3)"
      ],
      "execution_count": 9,
      "outputs": []
    },
    {
      "cell_type": "markdown",
      "metadata": {
        "id": "nEoHOr28awxc",
        "colab_type": "text"
      },
      "source": [
        "# Aplique o PCA aos datasets"
      ]
    },
    {
      "cell_type": "code",
      "metadata": {
        "id": "6Svws2ehazXk",
        "colab_type": "code",
        "colab": {
          "base_uri": "https://localhost:8080/",
          "height": 68
        },
        "outputId": "28bf553d-e48c-45be-cedc-90be7fd62265"
      },
      "source": [
        "# Reduce train\n",
        "reduced_train = pca.fit_transform(df_train)\n",
        "\n",
        "# Reduce test\n",
        "reduced_test = pca.fit_transform(df_test)"
      ],
      "execution_count": 28,
      "outputs": [
        {
          "output_type": "stream",
          "text": [
            "test reduced dataset [[ 6.89139038e-01 -3.17845183e-02  2.61682076e-17]\n",
            " [-2.98826575e-01  3.75028835e-01  2.61682076e-17]\n",
            " [-3.90312463e-01 -3.43244317e-01  2.61682076e-17]]\n"
          ],
          "name": "stdout"
        }
      ]
    },
    {
      "cell_type": "markdown",
      "metadata": {
        "id": "tCbKD3X9a0Tj",
        "colab_type": "text"
      },
      "source": [
        "# Crie dataframes do pandas com o resultado do item anterior"
      ]
    },
    {
      "cell_type": "code",
      "metadata": {
        "id": "EP-Z1RxUa3OQ",
        "colab_type": "code",
        "colab": {
          "base_uri": "https://localhost:8080/",
          "height": 187
        },
        "outputId": "32466623-168c-4d27-9df3-cd1be0eb3010"
      },
      "source": [
        ""
      ],
      "execution_count": 26,
      "outputs": [
        {
          "output_type": "execute_result",
          "data": {
            "text/plain": [
              "array([[-0.05031997,  0.36749102,  0.89139179],\n",
              "       [-0.60506978, -0.09097852,  0.13264423],\n",
              "       [ 0.7908364 ,  0.29795093,  0.16538337],\n",
              "       [ 0.30589171, -0.64224325, -0.06037678],\n",
              "       [ 0.77490575,  0.72379607, -0.29189175],\n",
              "       [-0.64367659,  0.22377466, -0.17565896],\n",
              "       [-0.58205781,  0.46270265, -0.52416353],\n",
              "       [ 0.23453532, -0.70169405,  0.04923808],\n",
              "       [-0.57645959, -0.17945647,  0.13489648],\n",
              "       [ 0.35141457, -0.46134304, -0.32146293]])"
            ]
          },
          "metadata": {
            "tags": []
          },
          "execution_count": 26
        }
      ]
    },
    {
      "cell_type": "markdown",
      "metadata": {
        "id": "J58LA0Y9a5SX",
        "colab_type": "text"
      },
      "source": [
        "# Crie um modelo de regressão logística"
      ]
    },
    {
      "cell_type": "code",
      "metadata": {
        "id": "GrZlyc75a6ns",
        "colab_type": "code",
        "colab": {}
      },
      "source": [
        ""
      ],
      "execution_count": null,
      "outputs": []
    },
    {
      "cell_type": "markdown",
      "metadata": {
        "id": "h3d9WV2Fa9f4",
        "colab_type": "text"
      },
      "source": [
        "# Usando o recurso de pipeline do scikit-learn para encadear 2 algoritmos em um mesmo modelo, concatene o resultado do PCA e Regressão Logística\n"
      ]
    },
    {
      "cell_type": "code",
      "metadata": {
        "id": "i0OVgmhfa-Gn",
        "colab_type": "code",
        "colab": {}
      },
      "source": [
        ""
      ],
      "execution_count": null,
      "outputs": []
    },
    {
      "cell_type": "markdown",
      "metadata": {
        "id": "ces0TOjxbAtr",
        "colab_type": "text"
      },
      "source": [
        "# Faça previsões com o modelo treinado"
      ]
    },
    {
      "cell_type": "code",
      "metadata": {
        "id": "LJQxk8JjbCh8",
        "colab_type": "code",
        "colab": {}
      },
      "source": [
        ""
      ],
      "execution_count": null,
      "outputs": []
    },
    {
      "cell_type": "markdown",
      "metadata": {
        "id": "9HQyHEIPbDJs",
        "colab_type": "text"
      },
      "source": [
        "# Imprimindo as previsões"
      ]
    },
    {
      "cell_type": "code",
      "metadata": {
        "id": "Q6q5fgGRbG5y",
        "colab_type": "code",
        "colab": {}
      },
      "source": [
        ""
      ],
      "execution_count": null,
      "outputs": []
    }
  ]
}