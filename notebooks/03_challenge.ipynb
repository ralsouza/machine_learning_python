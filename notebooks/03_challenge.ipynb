{
  "nbformat": 4,
  "nbformat_minor": 0,
  "metadata": {
    "colab": {
      "name": "03_challenge.ipynb",
      "provenance": [],
      "collapsed_sections": [],
      "toc_visible": true,
      "authorship_tag": "ABX9TyP2kIIeOM9wGbKDK4xVK3RD",
      "include_colab_link": true
    },
    "kernelspec": {
      "name": "python3",
      "display_name": "Python 3"
    }
  },
  "cells": [
    {
      "cell_type": "markdown",
      "metadata": {
        "id": "view-in-github",
        "colab_type": "text"
      },
      "source": [
        "<a href=\"https://colab.research.google.com/github/ralsouza/machine_learning_python/blob/master/notebooks/03_challenge.ipynb\" target=\"_parent\"><img src=\"https://colab.research.google.com/assets/colab-badge.svg\" alt=\"Open In Colab\"/></a>"
      ]
    },
    {
      "cell_type": "markdown",
      "metadata": {
        "id": "bKfG1b1TZYEE",
        "colab_type": "text"
      },
      "source": [
        "# 1. Predictive classification model to predict the binary variable value (true or false) from numeric data."
      ]
    },
    {
      "cell_type": "code",
      "metadata": {
        "id": "0P7Ml1OLZEy7",
        "colab_type": "code",
        "colab": {}
      },
      "source": [
        "# Import modules\n",
        "import numpy as np\n",
        "import pandas as pd\n",
        "from sklearn.decomposition import PCA\n",
        "from sklearn.pipeline import Pipeline\n",
        "from sklearn.linear_model import LogisticRegression\n",
        "import warnings\n",
        "warnings.filterwarnings(\"ignore\")"
      ],
      "execution_count": 6,
      "outputs": []
    },
    {
      "cell_type": "markdown",
      "metadata": {
        "id": "ib6x32AbY0Od",
        "colab_type": "text"
      },
      "source": [
        "# 2. Data pre-processing"
      ]
    },
    {
      "cell_type": "markdown",
      "metadata": {
        "id": "kHhuZog-aA4Z",
        "colab_type": "text"
      },
      "source": [
        "## 2.1 Train Data"
      ]
    },
    {
      "cell_type": "code",
      "metadata": {
        "id": "rmMYVbyDZ7TX",
        "colab_type": "code",
        "colab": {}
      },
      "source": [
        "# Train data\n",
        "n_train = 10\n",
        "np.random.seed(0)\n",
        "df_train = pd.DataFrame({\"var1\": np.random.random(n_train), \\\n",
        "                         \"var2\": np.random.random(n_train), \\\n",
        "                         \"var3\": np.random.random(n_train), \\\n",
        "                         \"var4\": np.random.randint(0,2,n_train).astype(bool),\\\n",
        "                         \"target\": np.random.randint(0,2,n_train).astype(bool)})"
      ],
      "execution_count": 7,
      "outputs": []
    },
    {
      "cell_type": "code",
      "metadata": {
        "id": "KcIlZIzgkHEl",
        "colab_type": "code",
        "colab": {
          "base_uri": "https://localhost:8080/",
          "height": 34
        },
        "outputId": "f7890c41-2105-4c88-c508-d3c691861004"
      },
      "source": [
        "# Shape\n",
        "df_train.shape"
      ],
      "execution_count": 8,
      "outputs": [
        {
          "output_type": "execute_result",
          "data": {
            "text/plain": [
              "(10, 5)"
            ]
          },
          "metadata": {
            "tags": []
          },
          "execution_count": 8
        }
      ]
    },
    {
      "cell_type": "code",
      "metadata": {
        "id": "pZ0H_GtdkzUs",
        "colab_type": "code",
        "colab": {
          "base_uri": "https://localhost:8080/",
          "height": 204
        },
        "outputId": "3de9d225-7af7-497e-a203-b17b479e9436"
      },
      "source": [
        "# Head\n",
        "df_train.head()"
      ],
      "execution_count": 9,
      "outputs": [
        {
          "output_type": "execute_result",
          "data": {
            "text/html": [
              "<div>\n",
              "<style scoped>\n",
              "    .dataframe tbody tr th:only-of-type {\n",
              "        vertical-align: middle;\n",
              "    }\n",
              "\n",
              "    .dataframe tbody tr th {\n",
              "        vertical-align: top;\n",
              "    }\n",
              "\n",
              "    .dataframe thead th {\n",
              "        text-align: right;\n",
              "    }\n",
              "</style>\n",
              "<table border=\"1\" class=\"dataframe\">\n",
              "  <thead>\n",
              "    <tr style=\"text-align: right;\">\n",
              "      <th></th>\n",
              "      <th>var1</th>\n",
              "      <th>var2</th>\n",
              "      <th>var3</th>\n",
              "      <th>var4</th>\n",
              "      <th>target</th>\n",
              "    </tr>\n",
              "  </thead>\n",
              "  <tbody>\n",
              "    <tr>\n",
              "      <th>0</th>\n",
              "      <td>0.548814</td>\n",
              "      <td>0.791725</td>\n",
              "      <td>0.978618</td>\n",
              "      <td>True</td>\n",
              "      <td>True</td>\n",
              "    </tr>\n",
              "    <tr>\n",
              "      <th>1</th>\n",
              "      <td>0.715189</td>\n",
              "      <td>0.528895</td>\n",
              "      <td>0.799159</td>\n",
              "      <td>False</td>\n",
              "      <td>True</td>\n",
              "    </tr>\n",
              "    <tr>\n",
              "      <th>2</th>\n",
              "      <td>0.602763</td>\n",
              "      <td>0.568045</td>\n",
              "      <td>0.461479</td>\n",
              "      <td>True</td>\n",
              "      <td>False</td>\n",
              "    </tr>\n",
              "    <tr>\n",
              "      <th>3</th>\n",
              "      <td>0.544883</td>\n",
              "      <td>0.925597</td>\n",
              "      <td>0.780529</td>\n",
              "      <td>False</td>\n",
              "      <td>False</td>\n",
              "    </tr>\n",
              "    <tr>\n",
              "      <th>4</th>\n",
              "      <td>0.423655</td>\n",
              "      <td>0.071036</td>\n",
              "      <td>0.118274</td>\n",
              "      <td>True</td>\n",
              "      <td>False</td>\n",
              "    </tr>\n",
              "  </tbody>\n",
              "</table>\n",
              "</div>"
            ],
            "text/plain": [
              "       var1      var2      var3   var4  target\n",
              "0  0.548814  0.791725  0.978618   True    True\n",
              "1  0.715189  0.528895  0.799159  False    True\n",
              "2  0.602763  0.568045  0.461479   True   False\n",
              "3  0.544883  0.925597  0.780529  False   False\n",
              "4  0.423655  0.071036  0.118274   True   False"
            ]
          },
          "metadata": {
            "tags": []
          },
          "execution_count": 9
        }
      ]
    },
    {
      "cell_type": "markdown",
      "metadata": {
        "id": "8fs9kgfGaWkg",
        "colab_type": "text"
      },
      "source": [
        "### 2.1.2 Separating train data in input and output components"
      ]
    },
    {
      "cell_type": "code",
      "metadata": {
        "id": "yIzWRjVLaeow",
        "colab_type": "code",
        "colab": {}
      },
      "source": [
        "# Predict variables\n",
        "x_train = df_train.iloc[:,0:4]"
      ],
      "execution_count": 42,
      "outputs": []
    },
    {
      "cell_type": "code",
      "metadata": {
        "id": "z3aB_yABgkx1",
        "colab_type": "code",
        "colab": {}
      },
      "source": [
        "# Target variable\n",
        "y_train = df_train.iloc[:,4]"
      ],
      "execution_count": 43,
      "outputs": []
    },
    {
      "cell_type": "markdown",
      "metadata": {
        "id": "nAGA1tODaJuv",
        "colab_type": "text"
      },
      "source": [
        "## 2.2 Test Data"
      ]
    },
    {
      "cell_type": "code",
      "metadata": {
        "id": "mvtNOOBZaV0-",
        "colab_type": "code",
        "colab": {}
      },
      "source": [
        "# Test data\n",
        "n_test = 3\n",
        "np.random.seed(1)\n",
        "df_test = pd.DataFrame({\"var1\": np.random.random(n_test), \\\n",
        "                        \"var2\": np.random.random(n_test), \\\n",
        "                        \"var3\": np.random.random(n_test), \\\n",
        "                        \"var4\": np.random.randint(0,2,n_test).astype(bool),\\\n",
        "                        \"target\": np.random.randint(0,2,n_test).astype(bool)})\n"
      ],
      "execution_count": 30,
      "outputs": []
    },
    {
      "cell_type": "code",
      "metadata": {
        "id": "zF6lHIQhk3ru",
        "colab_type": "code",
        "colab": {
          "base_uri": "https://localhost:8080/",
          "height": 34
        },
        "outputId": "5e19bb4c-d544-47cc-9638-22c4e13beba3"
      },
      "source": [
        "# Shape\n",
        "df_test.shape"
      ],
      "execution_count": 31,
      "outputs": [
        {
          "output_type": "execute_result",
          "data": {
            "text/plain": [
              "(3, 5)"
            ]
          },
          "metadata": {
            "tags": []
          },
          "execution_count": 31
        }
      ]
    },
    {
      "cell_type": "code",
      "metadata": {
        "id": "HRQRQIswf80z",
        "colab_type": "code",
        "colab": {
          "base_uri": "https://localhost:8080/",
          "height": 142
        },
        "outputId": "db7b39d1-976d-403f-d6d3-5f50d96b119b"
      },
      "source": [
        "# Head\n",
        "df_test.head()"
      ],
      "execution_count": 32,
      "outputs": [
        {
          "output_type": "execute_result",
          "data": {
            "text/html": [
              "<div>\n",
              "<style scoped>\n",
              "    .dataframe tbody tr th:only-of-type {\n",
              "        vertical-align: middle;\n",
              "    }\n",
              "\n",
              "    .dataframe tbody tr th {\n",
              "        vertical-align: top;\n",
              "    }\n",
              "\n",
              "    .dataframe thead th {\n",
              "        text-align: right;\n",
              "    }\n",
              "</style>\n",
              "<table border=\"1\" class=\"dataframe\">\n",
              "  <thead>\n",
              "    <tr style=\"text-align: right;\">\n",
              "      <th></th>\n",
              "      <th>var1</th>\n",
              "      <th>var2</th>\n",
              "      <th>var3</th>\n",
              "      <th>var4</th>\n",
              "      <th>target</th>\n",
              "    </tr>\n",
              "  </thead>\n",
              "  <tbody>\n",
              "    <tr>\n",
              "      <th>0</th>\n",
              "      <td>0.417022</td>\n",
              "      <td>0.302333</td>\n",
              "      <td>0.186260</td>\n",
              "      <td>False</td>\n",
              "      <td>True</td>\n",
              "    </tr>\n",
              "    <tr>\n",
              "      <th>1</th>\n",
              "      <td>0.720324</td>\n",
              "      <td>0.146756</td>\n",
              "      <td>0.345561</td>\n",
              "      <td>False</td>\n",
              "      <td>False</td>\n",
              "    </tr>\n",
              "    <tr>\n",
              "      <th>2</th>\n",
              "      <td>0.000114</td>\n",
              "      <td>0.092339</td>\n",
              "      <td>0.396767</td>\n",
              "      <td>False</td>\n",
              "      <td>False</td>\n",
              "    </tr>\n",
              "  </tbody>\n",
              "</table>\n",
              "</div>"
            ],
            "text/plain": [
              "       var1      var2      var3   var4  target\n",
              "0  0.417022  0.302333  0.186260  False    True\n",
              "1  0.720324  0.146756  0.345561  False   False\n",
              "2  0.000114  0.092339  0.396767  False   False"
            ]
          },
          "metadata": {
            "tags": []
          },
          "execution_count": 32
        }
      ]
    },
    {
      "cell_type": "markdown",
      "metadata": {
        "id": "cZwZmgdAhBi8",
        "colab_type": "text"
      },
      "source": [
        "### 2.2.2 Separating test data in input and output components"
      ]
    },
    {
      "cell_type": "code",
      "metadata": {
        "id": "OfD3b7rRhHfC",
        "colab_type": "code",
        "colab": {}
      },
      "source": [
        "# Predict variables\n",
        "x_test = df_test.iloc[:,0:4]"
      ],
      "execution_count": 44,
      "outputs": []
    },
    {
      "cell_type": "code",
      "metadata": {
        "id": "gm6NkxDZhYT-",
        "colab_type": "code",
        "colab": {}
      },
      "source": [
        "# Target variable\n",
        "y_test = df_test.iloc[:,4]"
      ],
      "execution_count": 45,
      "outputs": []
    },
    {
      "cell_type": "markdown",
      "metadata": {
        "id": "E3U503bhasdJ",
        "colab_type": "text"
      },
      "source": [
        "# 3. Create a PCA model with dimensionality reduction with 3 components"
      ]
    },
    {
      "cell_type": "code",
      "metadata": {
        "id": "INqX7QcAawWk",
        "colab_type": "code",
        "colab": {}
      },
      "source": [
        "# Setting PCA\n",
        "pca = PCA(n_components = 3)"
      ],
      "execution_count": 40,
      "outputs": []
    },
    {
      "cell_type": "markdown",
      "metadata": {
        "id": "nEoHOr28awxc",
        "colab_type": "text"
      },
      "source": [
        "# 3.1 Apply the PCA to datasets"
      ]
    },
    {
      "cell_type": "code",
      "metadata": {
        "id": "6Svws2ehazXk",
        "colab_type": "code",
        "colab": {}
      },
      "source": [
        "# Reduce train\n",
        "pca_x_train = pca.fit_transform(x_train)\n",
        "\n",
        "# Reduce test\n",
        "pca_x_test = pca.fit_transform(x_test)"
      ],
      "execution_count": 46,
      "outputs": []
    },
    {
      "cell_type": "code",
      "metadata": {
        "id": "1cLEds26jRCS",
        "colab_type": "code",
        "colab": {
          "base_uri": "https://localhost:8080/",
          "height": 187
        },
        "outputId": "d9e8e4c8-29cb-45bd-f8cd-abebe2894627"
      },
      "source": [
        "# Show pca x train values\n",
        "pca_x_train"
      ],
      "execution_count": 47,
      "outputs": [
        {
          "output_type": "execute_result",
          "data": {
            "text/plain": [
              "array([[ 0.41587301, -0.71062799, -0.11371247],\n",
              "       [-0.33697959,  0.03003896, -0.17654096],\n",
              "       [ 0.63605658, -0.29090443,  0.05028171],\n",
              "       [-0.43846812, -0.20849886,  0.15980423],\n",
              "       [ 0.94815762,  0.2527858 ,  0.03898095],\n",
              "       [-0.12006504,  0.42440996, -0.31974987],\n",
              "       [ 0.0903311 ,  0.76011682,  0.04769318],\n",
              "       [-0.52214167, -0.27678453, -0.15929367],\n",
              "       [-0.39311411, -0.02468934,  0.04231957],\n",
              "       [-0.27964979,  0.04415361,  0.43021735]])"
            ]
          },
          "metadata": {
            "tags": []
          },
          "execution_count": 47
        }
      ]
    },
    {
      "cell_type": "code",
      "metadata": {
        "id": "2GQjVWx7jYKv",
        "colab_type": "code",
        "colab": {
          "base_uri": "https://localhost:8080/",
          "height": 68
        },
        "outputId": "8cb58b64-0e32-4ee3-9d42-cce81956b522"
      },
      "source": [
        "# Show pca x test values\n",
        "pca_x_test"
      ],
      "execution_count": 49,
      "outputs": [
        {
          "output_type": "execute_result",
          "data": {
            "text/plain": [
              "array([[-0.06592466,  0.16471905,  0.        ],\n",
              "       [-0.32837335, -0.10489891,  0.        ],\n",
              "       [ 0.39429801, -0.05982013,  0.        ]])"
            ]
          },
          "metadata": {
            "tags": []
          },
          "execution_count": 49
        }
      ]
    },
    {
      "cell_type": "markdown",
      "metadata": {
        "id": "tCbKD3X9a0Tj",
        "colab_type": "text"
      },
      "source": [
        "# 4. Create dataframes do arrays created by PCA"
      ]
    },
    {
      "cell_type": "code",
      "metadata": {
        "id": "EP-Z1RxUa3OQ",
        "colab_type": "code",
        "colab": {}
      },
      "source": [
        "df_pca_x_train = pd.DataFrame(pca_x_train)\n",
        "df_pca_x_test  = pd.DataFrame(pca_x_test)"
      ],
      "execution_count": 50,
      "outputs": []
    },
    {
      "cell_type": "code",
      "metadata": {
        "id": "obigcG-4AD11",
        "colab_type": "code",
        "colab": {
          "base_uri": "https://localhost:8080/",
          "height": 204
        },
        "outputId": "eeb7635f-0e77-4bb6-fdb9-af6e22c70d2d"
      },
      "source": [
        "# Check values\n",
        "df_pca_x_train.head()"
      ],
      "execution_count": 51,
      "outputs": [
        {
          "output_type": "execute_result",
          "data": {
            "text/html": [
              "<div>\n",
              "<style scoped>\n",
              "    .dataframe tbody tr th:only-of-type {\n",
              "        vertical-align: middle;\n",
              "    }\n",
              "\n",
              "    .dataframe tbody tr th {\n",
              "        vertical-align: top;\n",
              "    }\n",
              "\n",
              "    .dataframe thead th {\n",
              "        text-align: right;\n",
              "    }\n",
              "</style>\n",
              "<table border=\"1\" class=\"dataframe\">\n",
              "  <thead>\n",
              "    <tr style=\"text-align: right;\">\n",
              "      <th></th>\n",
              "      <th>0</th>\n",
              "      <th>1</th>\n",
              "      <th>2</th>\n",
              "    </tr>\n",
              "  </thead>\n",
              "  <tbody>\n",
              "    <tr>\n",
              "      <th>0</th>\n",
              "      <td>0.415873</td>\n",
              "      <td>-0.710628</td>\n",
              "      <td>-0.113712</td>\n",
              "    </tr>\n",
              "    <tr>\n",
              "      <th>1</th>\n",
              "      <td>-0.336980</td>\n",
              "      <td>0.030039</td>\n",
              "      <td>-0.176541</td>\n",
              "    </tr>\n",
              "    <tr>\n",
              "      <th>2</th>\n",
              "      <td>0.636057</td>\n",
              "      <td>-0.290904</td>\n",
              "      <td>0.050282</td>\n",
              "    </tr>\n",
              "    <tr>\n",
              "      <th>3</th>\n",
              "      <td>-0.438468</td>\n",
              "      <td>-0.208499</td>\n",
              "      <td>0.159804</td>\n",
              "    </tr>\n",
              "    <tr>\n",
              "      <th>4</th>\n",
              "      <td>0.948158</td>\n",
              "      <td>0.252786</td>\n",
              "      <td>0.038981</td>\n",
              "    </tr>\n",
              "  </tbody>\n",
              "</table>\n",
              "</div>"
            ],
            "text/plain": [
              "          0         1         2\n",
              "0  0.415873 -0.710628 -0.113712\n",
              "1 -0.336980  0.030039 -0.176541\n",
              "2  0.636057 -0.290904  0.050282\n",
              "3 -0.438468 -0.208499  0.159804\n",
              "4  0.948158  0.252786  0.038981"
            ]
          },
          "metadata": {
            "tags": []
          },
          "execution_count": 51
        }
      ]
    },
    {
      "cell_type": "code",
      "metadata": {
        "id": "Jov_mdJRAJI5",
        "colab_type": "code",
        "colab": {
          "base_uri": "https://localhost:8080/",
          "height": 142
        },
        "outputId": "9c833027-f902-46c5-c0ad-0bde99885d19"
      },
      "source": [
        "# Check values\n",
        "df_pca_x_test.head()"
      ],
      "execution_count": 52,
      "outputs": [
        {
          "output_type": "execute_result",
          "data": {
            "text/html": [
              "<div>\n",
              "<style scoped>\n",
              "    .dataframe tbody tr th:only-of-type {\n",
              "        vertical-align: middle;\n",
              "    }\n",
              "\n",
              "    .dataframe tbody tr th {\n",
              "        vertical-align: top;\n",
              "    }\n",
              "\n",
              "    .dataframe thead th {\n",
              "        text-align: right;\n",
              "    }\n",
              "</style>\n",
              "<table border=\"1\" class=\"dataframe\">\n",
              "  <thead>\n",
              "    <tr style=\"text-align: right;\">\n",
              "      <th></th>\n",
              "      <th>0</th>\n",
              "      <th>1</th>\n",
              "      <th>2</th>\n",
              "    </tr>\n",
              "  </thead>\n",
              "  <tbody>\n",
              "    <tr>\n",
              "      <th>0</th>\n",
              "      <td>-0.065925</td>\n",
              "      <td>0.164719</td>\n",
              "      <td>0.0</td>\n",
              "    </tr>\n",
              "    <tr>\n",
              "      <th>1</th>\n",
              "      <td>-0.328373</td>\n",
              "      <td>-0.104899</td>\n",
              "      <td>0.0</td>\n",
              "    </tr>\n",
              "    <tr>\n",
              "      <th>2</th>\n",
              "      <td>0.394298</td>\n",
              "      <td>-0.059820</td>\n",
              "      <td>0.0</td>\n",
              "    </tr>\n",
              "  </tbody>\n",
              "</table>\n",
              "</div>"
            ],
            "text/plain": [
              "          0         1    2\n",
              "0 -0.065925  0.164719  0.0\n",
              "1 -0.328373 -0.104899  0.0\n",
              "2  0.394298 -0.059820  0.0"
            ]
          },
          "metadata": {
            "tags": []
          },
          "execution_count": 52
        }
      ]
    },
    {
      "cell_type": "markdown",
      "metadata": {
        "id": "J58LA0Y9a5SX",
        "colab_type": "text"
      },
      "source": [
        "# 4. Create a Logistic Regression model"
      ]
    },
    {
      "cell_type": "code",
      "metadata": {
        "id": "GrZlyc75a6ns",
        "colab_type": "code",
        "colab": {
          "base_uri": "https://localhost:8080/",
          "height": 341
        },
        "outputId": "f3097238-ecaa-4e71-da1f-9542b2603937"
      },
      "source": [
        ""
      ],
      "execution_count": 63,
      "outputs": [
        {
          "output_type": "error",
          "ename": "ValueError",
          "evalue": "ignored",
          "traceback": [
            "\u001b[0;31m---------------------------------------------------------------------------\u001b[0m",
            "\u001b[0;31mValueError\u001b[0m                                Traceback (most recent call last)",
            "\u001b[0;32m<ipython-input-63-9677c22dee93>\u001b[0m in \u001b[0;36m<module>\u001b[0;34m()\u001b[0m\n\u001b[1;32m      9\u001b[0m \u001b[0;34m\u001b[0m\u001b[0m\n\u001b[1;32m     10\u001b[0m \u001b[0;31m# Training modle\u001b[0m\u001b[0;34m\u001b[0m\u001b[0;34m\u001b[0m\u001b[0;34m\u001b[0m\u001b[0m\n\u001b[0;32m---> 11\u001b[0;31m \u001b[0mmodel\u001b[0m\u001b[0;34m.\u001b[0m\u001b[0mfit\u001b[0m\u001b[0;34m(\u001b[0m\u001b[0mdf_train\u001b[0m\u001b[0;34m,\u001b[0m\u001b[0mdf_test\u001b[0m\u001b[0;34m)\u001b[0m\u001b[0;34m\u001b[0m\u001b[0;34m\u001b[0m\u001b[0m\n\u001b[0m",
            "\u001b[0;32m/usr/local/lib/python3.6/dist-packages/sklearn/linear_model/_logistic.py\u001b[0m in \u001b[0;36mfit\u001b[0;34m(self, X, y, sample_weight)\u001b[0m\n\u001b[1;32m   1525\u001b[0m \u001b[0;34m\u001b[0m\u001b[0m\n\u001b[1;32m   1526\u001b[0m         X, y = check_X_y(X, y, accept_sparse='csr', dtype=_dtype, order=\"C\",\n\u001b[0;32m-> 1527\u001b[0;31m                          accept_large_sparse=solver != 'liblinear')\n\u001b[0m\u001b[1;32m   1528\u001b[0m         \u001b[0mcheck_classification_targets\u001b[0m\u001b[0;34m(\u001b[0m\u001b[0my\u001b[0m\u001b[0;34m)\u001b[0m\u001b[0;34m\u001b[0m\u001b[0;34m\u001b[0m\u001b[0m\n\u001b[1;32m   1529\u001b[0m         \u001b[0mself\u001b[0m\u001b[0;34m.\u001b[0m\u001b[0mclasses_\u001b[0m \u001b[0;34m=\u001b[0m \u001b[0mnp\u001b[0m\u001b[0;34m.\u001b[0m\u001b[0munique\u001b[0m\u001b[0;34m(\u001b[0m\u001b[0my\u001b[0m\u001b[0;34m)\u001b[0m\u001b[0;34m\u001b[0m\u001b[0;34m\u001b[0m\u001b[0m\n",
            "\u001b[0;32m/usr/local/lib/python3.6/dist-packages/sklearn/utils/validation.py\u001b[0m in \u001b[0;36mcheck_X_y\u001b[0;34m(X, y, accept_sparse, accept_large_sparse, dtype, order, copy, force_all_finite, ensure_2d, allow_nd, multi_output, ensure_min_samples, ensure_min_features, y_numeric, warn_on_dtype, estimator)\u001b[0m\n\u001b[1;32m    758\u001b[0m                         dtype=None)\n\u001b[1;32m    759\u001b[0m     \u001b[0;32melse\u001b[0m\u001b[0;34m:\u001b[0m\u001b[0;34m\u001b[0m\u001b[0;34m\u001b[0m\u001b[0m\n\u001b[0;32m--> 760\u001b[0;31m         \u001b[0my\u001b[0m \u001b[0;34m=\u001b[0m \u001b[0mcolumn_or_1d\u001b[0m\u001b[0;34m(\u001b[0m\u001b[0my\u001b[0m\u001b[0;34m,\u001b[0m \u001b[0mwarn\u001b[0m\u001b[0;34m=\u001b[0m\u001b[0;32mTrue\u001b[0m\u001b[0;34m)\u001b[0m\u001b[0;34m\u001b[0m\u001b[0;34m\u001b[0m\u001b[0m\n\u001b[0m\u001b[1;32m    761\u001b[0m         \u001b[0m_assert_all_finite\u001b[0m\u001b[0;34m(\u001b[0m\u001b[0my\u001b[0m\u001b[0;34m)\u001b[0m\u001b[0;34m\u001b[0m\u001b[0;34m\u001b[0m\u001b[0m\n\u001b[1;32m    762\u001b[0m     \u001b[0;32mif\u001b[0m \u001b[0my_numeric\u001b[0m \u001b[0;32mand\u001b[0m \u001b[0my\u001b[0m\u001b[0;34m.\u001b[0m\u001b[0mdtype\u001b[0m\u001b[0;34m.\u001b[0m\u001b[0mkind\u001b[0m \u001b[0;34m==\u001b[0m \u001b[0;34m'O'\u001b[0m\u001b[0;34m:\u001b[0m\u001b[0;34m\u001b[0m\u001b[0;34m\u001b[0m\u001b[0m\n",
            "\u001b[0;32m/usr/local/lib/python3.6/dist-packages/sklearn/utils/validation.py\u001b[0m in \u001b[0;36mcolumn_or_1d\u001b[0;34m(y, warn)\u001b[0m\n\u001b[1;32m    795\u001b[0m         \u001b[0;32mreturn\u001b[0m \u001b[0mnp\u001b[0m\u001b[0;34m.\u001b[0m\u001b[0mravel\u001b[0m\u001b[0;34m(\u001b[0m\u001b[0my\u001b[0m\u001b[0;34m)\u001b[0m\u001b[0;34m\u001b[0m\u001b[0;34m\u001b[0m\u001b[0m\n\u001b[1;32m    796\u001b[0m \u001b[0;34m\u001b[0m\u001b[0m\n\u001b[0;32m--> 797\u001b[0;31m     \u001b[0;32mraise\u001b[0m \u001b[0mValueError\u001b[0m\u001b[0;34m(\u001b[0m\u001b[0;34m\"bad input shape {0}\"\u001b[0m\u001b[0;34m.\u001b[0m\u001b[0mformat\u001b[0m\u001b[0;34m(\u001b[0m\u001b[0mshape\u001b[0m\u001b[0;34m)\u001b[0m\u001b[0;34m)\u001b[0m\u001b[0;34m\u001b[0m\u001b[0;34m\u001b[0m\u001b[0m\n\u001b[0m\u001b[1;32m    798\u001b[0m \u001b[0;34m\u001b[0m\u001b[0m\n\u001b[1;32m    799\u001b[0m \u001b[0;34m\u001b[0m\u001b[0m\n",
            "\u001b[0;31mValueError\u001b[0m: bad input shape (3, 3)"
          ]
        }
      ]
    },
    {
      "cell_type": "markdown",
      "metadata": {
        "id": "h3d9WV2Fa9f4",
        "colab_type": "text"
      },
      "source": [
        "# Usando o recurso de pipeline do scikit-learn para encadear 2 algoritmos em um mesmo modelo, concatene o resultado do PCA e Regressão Logística\n"
      ]
    },
    {
      "cell_type": "code",
      "metadata": {
        "id": "i0OVgmhfa-Gn",
        "colab_type": "code",
        "colab": {}
      },
      "source": [
        ""
      ],
      "execution_count": null,
      "outputs": []
    },
    {
      "cell_type": "markdown",
      "metadata": {
        "id": "ces0TOjxbAtr",
        "colab_type": "text"
      },
      "source": [
        "# Faça previsões com o modelo treinado"
      ]
    },
    {
      "cell_type": "code",
      "metadata": {
        "id": "LJQxk8JjbCh8",
        "colab_type": "code",
        "colab": {}
      },
      "source": [
        ""
      ],
      "execution_count": null,
      "outputs": []
    },
    {
      "cell_type": "markdown",
      "metadata": {
        "id": "9HQyHEIPbDJs",
        "colab_type": "text"
      },
      "source": [
        "# Imprimindo as previsões"
      ]
    },
    {
      "cell_type": "code",
      "metadata": {
        "id": "Q6q5fgGRbG5y",
        "colab_type": "code",
        "colab": {}
      },
      "source": [
        ""
      ],
      "execution_count": null,
      "outputs": []
    }
  ]
}