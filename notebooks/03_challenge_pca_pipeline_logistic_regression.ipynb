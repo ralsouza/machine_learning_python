{
  "nbformat": 4,
  "nbformat_minor": 0,
  "metadata": {
    "colab": {
      "name": "03_challenge_pca_pipeline_logistic_regression.ipynb",
      "provenance": [],
      "collapsed_sections": [],
      "toc_visible": true,
      "authorship_tag": "ABX9TyOByd+KEdiUFgvbeWygjSio",
      "include_colab_link": true
    },
    "kernelspec": {
      "name": "python3",
      "display_name": "Python 3"
    }
  },
  "cells": [
    {
      "cell_type": "markdown",
      "metadata": {
        "id": "view-in-github",
        "colab_type": "text"
      },
      "source": [
        "<a href=\"https://colab.research.google.com/github/ralsouza/machine_learning_python/blob/master/notebooks/03_challenge_pca_pipeline_logistic_regression.ipynb\" target=\"_parent\"><img src=\"https://colab.research.google.com/assets/colab-badge.svg\" alt=\"Open In Colab\"/></a>"
      ]
    },
    {
      "cell_type": "markdown",
      "metadata": {
        "id": "bKfG1b1TZYEE",
        "colab_type": "text"
      },
      "source": [
        "# 1. Predictive classification model to predict the binary variable value (true or false) from numeric data."
      ]
    },
    {
      "cell_type": "code",
      "metadata": {
        "id": "0P7Ml1OLZEy7",
        "colab_type": "code",
        "colab": {}
      },
      "source": [
        "# Import modules\n",
        "import numpy as np\n",
        "import pandas as pd\n",
        "from sklearn.decomposition import PCA\n",
        "from sklearn.pipeline import Pipeline\n",
        "from sklearn.linear_model import LogisticRegression\n",
        "from sklearn.model_selection import KFold\n",
        "from sklearn.model_selection import cross_val_score\n",
        "import warnings\n",
        "warnings.filterwarnings(\"ignore\")"
      ],
      "execution_count": 142,
      "outputs": []
    },
    {
      "cell_type": "markdown",
      "metadata": {
        "id": "ib6x32AbY0Od",
        "colab_type": "text"
      },
      "source": [
        "# 2. Data pre-processing"
      ]
    },
    {
      "cell_type": "markdown",
      "metadata": {
        "id": "kHhuZog-aA4Z",
        "colab_type": "text"
      },
      "source": [
        "## 2.1 Train Data"
      ]
    },
    {
      "cell_type": "code",
      "metadata": {
        "id": "rmMYVbyDZ7TX",
        "colab_type": "code",
        "colab": {}
      },
      "source": [
        "# Train data\n",
        "n_train = 10\n",
        "np.random.seed(0)\n",
        "df_train = pd.DataFrame({\"var1\": np.random.random(n_train), \\\n",
        "                         \"var2\": np.random.random(n_train), \\\n",
        "                         \"var3\": np.random.random(n_train), \\\n",
        "                         \"var4\": np.random.randint(0,2,n_train).astype(bool),\\\n",
        "                         \"target\": np.random.randint(0,2,n_train).astype(bool)})"
      ],
      "execution_count": 105,
      "outputs": []
    },
    {
      "cell_type": "code",
      "metadata": {
        "id": "KcIlZIzgkHEl",
        "colab_type": "code",
        "colab": {
          "base_uri": "https://localhost:8080/",
          "height": 34
        },
        "outputId": "bf079e58-0dd5-4d3a-d140-601b25474417"
      },
      "source": [
        "# Shape\n",
        "df_train.shape"
      ],
      "execution_count": 106,
      "outputs": [
        {
          "output_type": "execute_result",
          "data": {
            "text/plain": [
              "(10, 5)"
            ]
          },
          "metadata": {
            "tags": []
          },
          "execution_count": 106
        }
      ]
    },
    {
      "cell_type": "code",
      "metadata": {
        "id": "pZ0H_GtdkzUs",
        "colab_type": "code",
        "colab": {
          "base_uri": "https://localhost:8080/",
          "height": 204
        },
        "outputId": "da1632cc-96ce-4e4e-e05c-1806bd38973e"
      },
      "source": [
        "# Head\n",
        "df_train.head()"
      ],
      "execution_count": 107,
      "outputs": [
        {
          "output_type": "execute_result",
          "data": {
            "text/html": [
              "<div>\n",
              "<style scoped>\n",
              "    .dataframe tbody tr th:only-of-type {\n",
              "        vertical-align: middle;\n",
              "    }\n",
              "\n",
              "    .dataframe tbody tr th {\n",
              "        vertical-align: top;\n",
              "    }\n",
              "\n",
              "    .dataframe thead th {\n",
              "        text-align: right;\n",
              "    }\n",
              "</style>\n",
              "<table border=\"1\" class=\"dataframe\">\n",
              "  <thead>\n",
              "    <tr style=\"text-align: right;\">\n",
              "      <th></th>\n",
              "      <th>var1</th>\n",
              "      <th>var2</th>\n",
              "      <th>var3</th>\n",
              "      <th>var4</th>\n",
              "      <th>target</th>\n",
              "    </tr>\n",
              "  </thead>\n",
              "  <tbody>\n",
              "    <tr>\n",
              "      <th>0</th>\n",
              "      <td>0.548814</td>\n",
              "      <td>0.791725</td>\n",
              "      <td>0.978618</td>\n",
              "      <td>True</td>\n",
              "      <td>True</td>\n",
              "    </tr>\n",
              "    <tr>\n",
              "      <th>1</th>\n",
              "      <td>0.715189</td>\n",
              "      <td>0.528895</td>\n",
              "      <td>0.799159</td>\n",
              "      <td>False</td>\n",
              "      <td>True</td>\n",
              "    </tr>\n",
              "    <tr>\n",
              "      <th>2</th>\n",
              "      <td>0.602763</td>\n",
              "      <td>0.568045</td>\n",
              "      <td>0.461479</td>\n",
              "      <td>True</td>\n",
              "      <td>False</td>\n",
              "    </tr>\n",
              "    <tr>\n",
              "      <th>3</th>\n",
              "      <td>0.544883</td>\n",
              "      <td>0.925597</td>\n",
              "      <td>0.780529</td>\n",
              "      <td>False</td>\n",
              "      <td>False</td>\n",
              "    </tr>\n",
              "    <tr>\n",
              "      <th>4</th>\n",
              "      <td>0.423655</td>\n",
              "      <td>0.071036</td>\n",
              "      <td>0.118274</td>\n",
              "      <td>True</td>\n",
              "      <td>False</td>\n",
              "    </tr>\n",
              "  </tbody>\n",
              "</table>\n",
              "</div>"
            ],
            "text/plain": [
              "       var1      var2      var3   var4  target\n",
              "0  0.548814  0.791725  0.978618   True    True\n",
              "1  0.715189  0.528895  0.799159  False    True\n",
              "2  0.602763  0.568045  0.461479   True   False\n",
              "3  0.544883  0.925597  0.780529  False   False\n",
              "4  0.423655  0.071036  0.118274   True   False"
            ]
          },
          "metadata": {
            "tags": []
          },
          "execution_count": 107
        }
      ]
    },
    {
      "cell_type": "markdown",
      "metadata": {
        "id": "8fs9kgfGaWkg",
        "colab_type": "text"
      },
      "source": [
        "### 2.1.2 Separating train data in input and output components"
      ]
    },
    {
      "cell_type": "code",
      "metadata": {
        "id": "yIzWRjVLaeow",
        "colab_type": "code",
        "colab": {}
      },
      "source": [
        "# Predict variables\n",
        "x_train = df_train.iloc[:,0:4]"
      ],
      "execution_count": 108,
      "outputs": []
    },
    {
      "cell_type": "code",
      "metadata": {
        "id": "z3aB_yABgkx1",
        "colab_type": "code",
        "colab": {}
      },
      "source": [
        "# Target variable\n",
        "y_train = df_train.iloc[:,4]"
      ],
      "execution_count": 109,
      "outputs": []
    },
    {
      "cell_type": "markdown",
      "metadata": {
        "id": "nAGA1tODaJuv",
        "colab_type": "text"
      },
      "source": [
        "## 2.2 Test Data"
      ]
    },
    {
      "cell_type": "code",
      "metadata": {
        "id": "mvtNOOBZaV0-",
        "colab_type": "code",
        "colab": {}
      },
      "source": [
        "# Test data\n",
        "n_test = 3\n",
        "np.random.seed(1)\n",
        "df_test = pd.DataFrame({\"var1\": np.random.random(n_test), \\\n",
        "                        \"var2\": np.random.random(n_test), \\\n",
        "                        \"var3\": np.random.random(n_test), \\\n",
        "                        \"var4\": np.random.randint(0,2,n_test).astype(bool),\\\n",
        "                        \"target\": np.random.randint(0,2,n_test).astype(bool)})\n"
      ],
      "execution_count": 110,
      "outputs": []
    },
    {
      "cell_type": "code",
      "metadata": {
        "id": "zF6lHIQhk3ru",
        "colab_type": "code",
        "colab": {
          "base_uri": "https://localhost:8080/",
          "height": 34
        },
        "outputId": "76099d42-8c16-40fd-ecb1-d4167c8ecdc5"
      },
      "source": [
        "# Shape\n",
        "df_test.shape"
      ],
      "execution_count": 111,
      "outputs": [
        {
          "output_type": "execute_result",
          "data": {
            "text/plain": [
              "(3, 5)"
            ]
          },
          "metadata": {
            "tags": []
          },
          "execution_count": 111
        }
      ]
    },
    {
      "cell_type": "code",
      "metadata": {
        "id": "HRQRQIswf80z",
        "colab_type": "code",
        "colab": {
          "base_uri": "https://localhost:8080/",
          "height": 142
        },
        "outputId": "907fa8d2-1ce2-4a09-da9d-3ed9ba8cc339"
      },
      "source": [
        "# Head\n",
        "df_test.head()"
      ],
      "execution_count": 112,
      "outputs": [
        {
          "output_type": "execute_result",
          "data": {
            "text/html": [
              "<div>\n",
              "<style scoped>\n",
              "    .dataframe tbody tr th:only-of-type {\n",
              "        vertical-align: middle;\n",
              "    }\n",
              "\n",
              "    .dataframe tbody tr th {\n",
              "        vertical-align: top;\n",
              "    }\n",
              "\n",
              "    .dataframe thead th {\n",
              "        text-align: right;\n",
              "    }\n",
              "</style>\n",
              "<table border=\"1\" class=\"dataframe\">\n",
              "  <thead>\n",
              "    <tr style=\"text-align: right;\">\n",
              "      <th></th>\n",
              "      <th>var1</th>\n",
              "      <th>var2</th>\n",
              "      <th>var3</th>\n",
              "      <th>var4</th>\n",
              "      <th>target</th>\n",
              "    </tr>\n",
              "  </thead>\n",
              "  <tbody>\n",
              "    <tr>\n",
              "      <th>0</th>\n",
              "      <td>0.417022</td>\n",
              "      <td>0.302333</td>\n",
              "      <td>0.186260</td>\n",
              "      <td>False</td>\n",
              "      <td>True</td>\n",
              "    </tr>\n",
              "    <tr>\n",
              "      <th>1</th>\n",
              "      <td>0.720324</td>\n",
              "      <td>0.146756</td>\n",
              "      <td>0.345561</td>\n",
              "      <td>False</td>\n",
              "      <td>False</td>\n",
              "    </tr>\n",
              "    <tr>\n",
              "      <th>2</th>\n",
              "      <td>0.000114</td>\n",
              "      <td>0.092339</td>\n",
              "      <td>0.396767</td>\n",
              "      <td>False</td>\n",
              "      <td>False</td>\n",
              "    </tr>\n",
              "  </tbody>\n",
              "</table>\n",
              "</div>"
            ],
            "text/plain": [
              "       var1      var2      var3   var4  target\n",
              "0  0.417022  0.302333  0.186260  False    True\n",
              "1  0.720324  0.146756  0.345561  False   False\n",
              "2  0.000114  0.092339  0.396767  False   False"
            ]
          },
          "metadata": {
            "tags": []
          },
          "execution_count": 112
        }
      ]
    },
    {
      "cell_type": "markdown",
      "metadata": {
        "id": "cZwZmgdAhBi8",
        "colab_type": "text"
      },
      "source": [
        "### 2.2.2 Separating test data in input and output components"
      ]
    },
    {
      "cell_type": "code",
      "metadata": {
        "id": "OfD3b7rRhHfC",
        "colab_type": "code",
        "colab": {}
      },
      "source": [
        "# Predict variables\n",
        "x_test = df_test.iloc[:,0:4]"
      ],
      "execution_count": 113,
      "outputs": []
    },
    {
      "cell_type": "code",
      "metadata": {
        "id": "gm6NkxDZhYT-",
        "colab_type": "code",
        "colab": {}
      },
      "source": [
        "# Target variable\n",
        "y_test = df_test.iloc[:,4]"
      ],
      "execution_count": 114,
      "outputs": []
    },
    {
      "cell_type": "markdown",
      "metadata": {
        "id": "E3U503bhasdJ",
        "colab_type": "text"
      },
      "source": [
        "# 3. Create a PCA model with dimensionality reduction with 3 components"
      ]
    },
    {
      "cell_type": "code",
      "metadata": {
        "id": "INqX7QcAawWk",
        "colab_type": "code",
        "colab": {}
      },
      "source": [
        "# Setting PCA\n",
        "pca = PCA(n_components = 3)"
      ],
      "execution_count": 115,
      "outputs": []
    },
    {
      "cell_type": "markdown",
      "metadata": {
        "id": "nEoHOr28awxc",
        "colab_type": "text"
      },
      "source": [
        "# 3.1 Apply the PCA to datasets"
      ]
    },
    {
      "cell_type": "code",
      "metadata": {
        "id": "6Svws2ehazXk",
        "colab_type": "code",
        "colab": {}
      },
      "source": [
        "# Reduce train\n",
        "pca_x_train = pca.fit_transform(x_train)\n",
        "\n",
        "# Reduce test\n",
        "pca_x_test = pca.fit_transform(x_test)"
      ],
      "execution_count": 116,
      "outputs": []
    },
    {
      "cell_type": "code",
      "metadata": {
        "id": "1cLEds26jRCS",
        "colab_type": "code",
        "colab": {
          "base_uri": "https://localhost:8080/",
          "height": 187
        },
        "outputId": "f0a7fb2f-9289-428f-9dc0-b1dd96cd4f95"
      },
      "source": [
        "# Show pca x train values\n",
        "pca_x_train"
      ],
      "execution_count": 117,
      "outputs": [
        {
          "output_type": "execute_result",
          "data": {
            "text/plain": [
              "array([[ 0.41587301, -0.71062799, -0.11371247],\n",
              "       [-0.33697959,  0.03003896, -0.17654096],\n",
              "       [ 0.63605658, -0.29090443,  0.05028171],\n",
              "       [-0.43846812, -0.20849886,  0.15980423],\n",
              "       [ 0.94815762,  0.2527858 ,  0.03898095],\n",
              "       [-0.12006504,  0.42440996, -0.31974987],\n",
              "       [ 0.0903311 ,  0.76011682,  0.04769318],\n",
              "       [-0.52214167, -0.27678453, -0.15929367],\n",
              "       [-0.39311411, -0.02468934,  0.04231957],\n",
              "       [-0.27964979,  0.04415361,  0.43021735]])"
            ]
          },
          "metadata": {
            "tags": []
          },
          "execution_count": 117
        }
      ]
    },
    {
      "cell_type": "code",
      "metadata": {
        "id": "2GQjVWx7jYKv",
        "colab_type": "code",
        "colab": {
          "base_uri": "https://localhost:8080/",
          "height": 68
        },
        "outputId": "69d174f0-4f2a-45e8-a230-fb6ba3879b92"
      },
      "source": [
        "# Show pca x test values\n",
        "pca_x_test"
      ],
      "execution_count": 118,
      "outputs": [
        {
          "output_type": "execute_result",
          "data": {
            "text/plain": [
              "array([[-0.06592466,  0.16471905,  0.        ],\n",
              "       [-0.32837335, -0.10489891,  0.        ],\n",
              "       [ 0.39429801, -0.05982013,  0.        ]])"
            ]
          },
          "metadata": {
            "tags": []
          },
          "execution_count": 118
        }
      ]
    },
    {
      "cell_type": "markdown",
      "metadata": {
        "id": "tCbKD3X9a0Tj",
        "colab_type": "text"
      },
      "source": [
        "# 4. Create dataframes do arrays created by PCA"
      ]
    },
    {
      "cell_type": "code",
      "metadata": {
        "id": "EP-Z1RxUa3OQ",
        "colab_type": "code",
        "colab": {}
      },
      "source": [
        "df_pca_x_train = pd.DataFrame(pca_x_train)\n",
        "df_pca_x_test  = pd.DataFrame(pca_x_test)"
      ],
      "execution_count": 119,
      "outputs": []
    },
    {
      "cell_type": "code",
      "metadata": {
        "id": "obigcG-4AD11",
        "colab_type": "code",
        "colab": {
          "base_uri": "https://localhost:8080/",
          "height": 204
        },
        "outputId": "f03e085c-1c14-44f9-9cf6-3c2e18e6c236"
      },
      "source": [
        "# Check values\n",
        "df_pca_x_train.head()"
      ],
      "execution_count": 120,
      "outputs": [
        {
          "output_type": "execute_result",
          "data": {
            "text/html": [
              "<div>\n",
              "<style scoped>\n",
              "    .dataframe tbody tr th:only-of-type {\n",
              "        vertical-align: middle;\n",
              "    }\n",
              "\n",
              "    .dataframe tbody tr th {\n",
              "        vertical-align: top;\n",
              "    }\n",
              "\n",
              "    .dataframe thead th {\n",
              "        text-align: right;\n",
              "    }\n",
              "</style>\n",
              "<table border=\"1\" class=\"dataframe\">\n",
              "  <thead>\n",
              "    <tr style=\"text-align: right;\">\n",
              "      <th></th>\n",
              "      <th>0</th>\n",
              "      <th>1</th>\n",
              "      <th>2</th>\n",
              "    </tr>\n",
              "  </thead>\n",
              "  <tbody>\n",
              "    <tr>\n",
              "      <th>0</th>\n",
              "      <td>0.415873</td>\n",
              "      <td>-0.710628</td>\n",
              "      <td>-0.113712</td>\n",
              "    </tr>\n",
              "    <tr>\n",
              "      <th>1</th>\n",
              "      <td>-0.336980</td>\n",
              "      <td>0.030039</td>\n",
              "      <td>-0.176541</td>\n",
              "    </tr>\n",
              "    <tr>\n",
              "      <th>2</th>\n",
              "      <td>0.636057</td>\n",
              "      <td>-0.290904</td>\n",
              "      <td>0.050282</td>\n",
              "    </tr>\n",
              "    <tr>\n",
              "      <th>3</th>\n",
              "      <td>-0.438468</td>\n",
              "      <td>-0.208499</td>\n",
              "      <td>0.159804</td>\n",
              "    </tr>\n",
              "    <tr>\n",
              "      <th>4</th>\n",
              "      <td>0.948158</td>\n",
              "      <td>0.252786</td>\n",
              "      <td>0.038981</td>\n",
              "    </tr>\n",
              "  </tbody>\n",
              "</table>\n",
              "</div>"
            ],
            "text/plain": [
              "          0         1         2\n",
              "0  0.415873 -0.710628 -0.113712\n",
              "1 -0.336980  0.030039 -0.176541\n",
              "2  0.636057 -0.290904  0.050282\n",
              "3 -0.438468 -0.208499  0.159804\n",
              "4  0.948158  0.252786  0.038981"
            ]
          },
          "metadata": {
            "tags": []
          },
          "execution_count": 120
        }
      ]
    },
    {
      "cell_type": "code",
      "metadata": {
        "id": "Jov_mdJRAJI5",
        "colab_type": "code",
        "colab": {
          "base_uri": "https://localhost:8080/",
          "height": 142
        },
        "outputId": "3b558dce-30cd-45bc-c875-fa6f336fa60c"
      },
      "source": [
        "# Check values\n",
        "df_pca_x_test.head()"
      ],
      "execution_count": 121,
      "outputs": [
        {
          "output_type": "execute_result",
          "data": {
            "text/html": [
              "<div>\n",
              "<style scoped>\n",
              "    .dataframe tbody tr th:only-of-type {\n",
              "        vertical-align: middle;\n",
              "    }\n",
              "\n",
              "    .dataframe tbody tr th {\n",
              "        vertical-align: top;\n",
              "    }\n",
              "\n",
              "    .dataframe thead th {\n",
              "        text-align: right;\n",
              "    }\n",
              "</style>\n",
              "<table border=\"1\" class=\"dataframe\">\n",
              "  <thead>\n",
              "    <tr style=\"text-align: right;\">\n",
              "      <th></th>\n",
              "      <th>0</th>\n",
              "      <th>1</th>\n",
              "      <th>2</th>\n",
              "    </tr>\n",
              "  </thead>\n",
              "  <tbody>\n",
              "    <tr>\n",
              "      <th>0</th>\n",
              "      <td>-0.065925</td>\n",
              "      <td>0.164719</td>\n",
              "      <td>0.0</td>\n",
              "    </tr>\n",
              "    <tr>\n",
              "      <th>1</th>\n",
              "      <td>-0.328373</td>\n",
              "      <td>-0.104899</td>\n",
              "      <td>0.0</td>\n",
              "    </tr>\n",
              "    <tr>\n",
              "      <th>2</th>\n",
              "      <td>0.394298</td>\n",
              "      <td>-0.059820</td>\n",
              "      <td>0.0</td>\n",
              "    </tr>\n",
              "  </tbody>\n",
              "</table>\n",
              "</div>"
            ],
            "text/plain": [
              "          0         1    2\n",
              "0 -0.065925  0.164719  0.0\n",
              "1 -0.328373 -0.104899  0.0\n",
              "2  0.394298 -0.059820  0.0"
            ]
          },
          "metadata": {
            "tags": []
          },
          "execution_count": 121
        }
      ]
    },
    {
      "cell_type": "markdown",
      "metadata": {
        "id": "J58LA0Y9a5SX",
        "colab_type": "text"
      },
      "source": [
        "# 4. Create a Logistic Regression model"
      ]
    },
    {
      "cell_type": "markdown",
      "metadata": {
        "id": "fAdbnZmhlvrd",
        "colab_type": "text"
      },
      "source": [
        "## 4.1 Create model v1 - manually"
      ]
    },
    {
      "cell_type": "code",
      "metadata": {
        "id": "GrZlyc75a6ns",
        "colab_type": "code",
        "colab": {}
      },
      "source": [
        "# Make the model v1\n",
        "model_v1 = LogisticRegression()"
      ],
      "execution_count": 135,
      "outputs": []
    },
    {
      "cell_type": "markdown",
      "metadata": {
        "id": "EEzVqEqql2qw",
        "colab_type": "text"
      },
      "source": [
        "### 4.1.1 Check performance"
      ]
    },
    {
      "cell_type": "code",
      "metadata": {
        "id": "oF6NMOPalm3S",
        "colab_type": "code",
        "colab": {}
      },
      "source": [
        "# Cross validation\n",
        "result_v1 = cross_val_score(model_v1,pca_x_train,y_train)"
      ],
      "execution_count": 140,
      "outputs": []
    },
    {
      "cell_type": "code",
      "metadata": {
        "id": "hDHlQcU3m6Oe",
        "colab_type": "code",
        "colab": {
          "base_uri": "https://localhost:8080/",
          "height": 34
        },
        "outputId": "11f4260d-5ac2-49a1-eb10-ad3821b41fee"
      },
      "source": [
        "# Print result\n",
        "print('Accuracy: %.3f' % (result_v1.mean() * 100 ))"
      ],
      "execution_count": 141,
      "outputs": [
        {
          "output_type": "stream",
          "text": [
            "Accuracy: 50.000\n"
          ],
          "name": "stdout"
        }
      ]
    },
    {
      "cell_type": "markdown",
      "metadata": {
        "id": "rel_R-g-oJfS",
        "colab_type": "text"
      },
      "source": [
        "## 4.2 Create model v2 - manually"
      ]
    },
    {
      "cell_type": "code",
      "metadata": {
        "id": "sX5T94EMo2kg",
        "colab_type": "code",
        "colab": {}
      },
      "source": [
        "# Make the model v2\n",
        "model_v2 = LogisticRegression()"
      ],
      "execution_count": 125,
      "outputs": []
    },
    {
      "cell_type": "markdown",
      "metadata": {
        "id": "0pqx6p5quDl-",
        "colab_type": "text"
      },
      "source": [
        "### 4.2.1 Check Performance"
      ]
    },
    {
      "cell_type": "code",
      "metadata": {
        "id": "DEeZAALysFLZ",
        "colab_type": "code",
        "colab": {
          "base_uri": "https://localhost:8080/",
          "height": 34
        },
        "outputId": "098a5ba9-8a1a-4526-ea13-fd5cf880ddc3"
      },
      "source": [
        "model_v2.fit(pca_x_train,y_train)\n",
        "model_v2.score(pca_x_train,y_train)"
      ],
      "execution_count": 128,
      "outputs": [
        {
          "output_type": "execute_result",
          "data": {
            "text/plain": [
              "0.8"
            ]
          },
          "metadata": {
            "tags": []
          },
          "execution_count": 128
        }
      ]
    },
    {
      "cell_type": "code",
      "metadata": {
        "id": "yFV-Cndnsf5S",
        "colab_type": "code",
        "colab": {
          "base_uri": "https://localhost:8080/",
          "height": 34
        },
        "outputId": "1cd622fd-430e-4ff4-93af-cd9e4798f615"
      },
      "source": [
        "# Prediction\n",
        "predict_values = model_v2.predict(pca_x_test)\n",
        "predict_values"
      ],
      "execution_count": 129,
      "outputs": [
        {
          "output_type": "execute_result",
          "data": {
            "text/plain": [
              "array([ True,  True, False])"
            ]
          },
          "metadata": {
            "tags": []
          },
          "execution_count": 129
        }
      ]
    },
    {
      "cell_type": "markdown",
      "metadata": {
        "id": "nPGzbgfYtBvE",
        "colab_type": "text"
      },
      "source": [
        "## 4.3 Create model v3 - manually"
      ]
    },
    {
      "cell_type": "code",
      "metadata": {
        "id": "2aM3YFyStG6n",
        "colab_type": "code",
        "colab": {}
      },
      "source": [
        "clf = LogisticRegression().fit(pca_x_train, y_train)"
      ],
      "execution_count": 130,
      "outputs": []
    },
    {
      "cell_type": "code",
      "metadata": {
        "id": "9SAuI946tWuF",
        "colab_type": "code",
        "colab": {
          "base_uri": "https://localhost:8080/",
          "height": 34
        },
        "outputId": "74c0f163-1535-4cf9-a380-38da728fcb75"
      },
      "source": [
        "clf.predict(pca_x_test)"
      ],
      "execution_count": 158,
      "outputs": [
        {
          "output_type": "execute_result",
          "data": {
            "text/plain": [
              "array([ True,  True, False])"
            ]
          },
          "metadata": {
            "tags": []
          },
          "execution_count": 158
        }
      ]
    },
    {
      "cell_type": "markdown",
      "metadata": {
        "id": "wCOUtjPcvg5E",
        "colab_type": "text"
      },
      "source": [
        "### 4.3.1 Check Performance"
      ]
    },
    {
      "cell_type": "code",
      "metadata": {
        "id": "QGNKx_0Eus_1",
        "colab_type": "code",
        "colab": {
          "base_uri": "https://localhost:8080/",
          "height": 34
        },
        "outputId": "94acb14c-cf4f-4136-ce03-29e4bbf0b8eb"
      },
      "source": [
        "clf.score(pca_x_test, y_test)"
      ],
      "execution_count": 134,
      "outputs": [
        {
          "output_type": "execute_result",
          "data": {
            "text/plain": [
              "0.6666666666666666"
            ]
          },
          "metadata": {
            "tags": []
          },
          "execution_count": 134
        }
      ]
    },
    {
      "cell_type": "markdown",
      "metadata": {
        "id": "h3d9WV2Fa9f4",
        "colab_type": "text"
      },
      "source": [
        "# 5. Using the pipeline resource from scikit-learn to chain 2 algorithms in the same model, concat the result of PCA and Logistic Regression.\n",
        "[6.1. Pipelines and composite estimators](https://scikit-learn.org/stable/modules/compose.html#pipeline)\n"
      ]
    },
    {
      "cell_type": "code",
      "metadata": {
        "id": "TD4ad2WxyRS7",
        "colab_type": "code",
        "colab": {}
      },
      "source": [
        "# See also: make_pipeline\n",
        "pipe = Pipeline(steps=[('reduce_dim',PCA()),('log_reg',LogisticRegression())])"
      ],
      "execution_count": 146,
      "outputs": []
    },
    {
      "cell_type": "code",
      "metadata": {
        "id": "Bnh3ctIT1xGr",
        "colab_type": "code",
        "colab": {
          "base_uri": "https://localhost:8080/",
          "height": 255
        },
        "outputId": "8563070d-541a-4a69-9b9f-2c9d14491fca"
      },
      "source": [
        "print(pipe)"
      ],
      "execution_count": 147,
      "outputs": [
        {
          "output_type": "stream",
          "text": [
            "Pipeline(memory=None,\n",
            "         steps=[('reduce_dim',\n",
            "                 PCA(copy=True, iterated_power='auto', n_components=None,\n",
            "                     random_state=None, svd_solver='auto', tol=0.0,\n",
            "                     whiten=False)),\n",
            "                ('log_reg',\n",
            "                 LogisticRegression(C=1.0, class_weight=None, dual=False,\n",
            "                                    fit_intercept=True, intercept_scaling=1,\n",
            "                                    l1_ratio=None, max_iter=100,\n",
            "                                    multi_class='auto', n_jobs=None,\n",
            "                                    penalty='l2', random_state=None,\n",
            "                                    solver='lbfgs', tol=0.0001, verbose=0,\n",
            "                                    warm_start=False))],\n",
            "         verbose=False)\n"
          ],
          "name": "stdout"
        }
      ]
    },
    {
      "cell_type": "code",
      "metadata": {
        "id": "i0OVgmhfa-Gn",
        "colab_type": "code",
        "colab": {
          "base_uri": "https://localhost:8080/",
          "height": 255
        },
        "outputId": "b756ce0e-4420-4faf-cea8-baf2d57c5f30"
      },
      "source": [
        "pipe.fit(pca_x_train,y_train)"
      ],
      "execution_count": 150,
      "outputs": [
        {
          "output_type": "execute_result",
          "data": {
            "text/plain": [
              "Pipeline(memory=None,\n",
              "         steps=[('reduce_dim',\n",
              "                 PCA(copy=True, iterated_power='auto', n_components=None,\n",
              "                     random_state=None, svd_solver='auto', tol=0.0,\n",
              "                     whiten=False)),\n",
              "                ('log_reg',\n",
              "                 LogisticRegression(C=1.0, class_weight=None, dual=False,\n",
              "                                    fit_intercept=True, intercept_scaling=1,\n",
              "                                    l1_ratio=None, max_iter=100,\n",
              "                                    multi_class='auto', n_jobs=None,\n",
              "                                    penalty='l2', random_state=None,\n",
              "                                    solver='lbfgs', tol=0.0001, verbose=0,\n",
              "                                    warm_start=False))],\n",
              "         verbose=False)"
            ]
          },
          "metadata": {
            "tags": []
          },
          "execution_count": 150
        }
      ]
    },
    {
      "cell_type": "markdown",
      "metadata": {
        "id": "ces0TOjxbAtr",
        "colab_type": "text"
      },
      "source": [
        "# 6. Make predictions with the trained model"
      ]
    },
    {
      "cell_type": "code",
      "metadata": {
        "id": "LJQxk8JjbCh8",
        "colab_type": "code",
        "colab": {}
      },
      "source": [
        "predictions = pipe.predict(pca_x_test)"
      ],
      "execution_count": 154,
      "outputs": []
    },
    {
      "cell_type": "markdown",
      "metadata": {
        "id": "9HQyHEIPbDJs",
        "colab_type": "text"
      },
      "source": [
        "# 7. Print outcomes and performance model"
      ]
    },
    {
      "cell_type": "code",
      "metadata": {
        "id": "Q6q5fgGRbG5y",
        "colab_type": "code",
        "colab": {
          "base_uri": "https://localhost:8080/",
          "height": 51
        },
        "outputId": "7a0ef3c8-a642-449b-8eb1-1086db73ca69"
      },
      "source": [
        "print('predictions:')\n",
        "print(predictions)"
      ],
      "execution_count": 155,
      "outputs": [
        {
          "output_type": "stream",
          "text": [
            "predictions:\n",
            "[ True  True False]\n"
          ],
          "name": "stdout"
        }
      ]
    },
    {
      "cell_type": "code",
      "metadata": {
        "id": "HkyOwTdm4kkh",
        "colab_type": "code",
        "colab": {
          "base_uri": "https://localhost:8080/",
          "height": 34
        },
        "outputId": "c23c029a-1a26-4576-96f3-be04957abd8f"
      },
      "source": [
        "# Performance\n",
        "pipe.score(pca_x_test,y_test)"
      ],
      "execution_count": 153,
      "outputs": [
        {
          "output_type": "execute_result",
          "data": {
            "text/plain": [
              "0.6666666666666666"
            ]
          },
          "metadata": {
            "tags": []
          },
          "execution_count": 153
        }
      ]
    }
  ]
}