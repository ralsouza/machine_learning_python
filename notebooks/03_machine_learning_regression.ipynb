{
  "nbformat": 4,
  "nbformat_minor": 0,
  "metadata": {
    "colab": {
      "name": "03_machine_learning_regression.ipynb",
      "provenance": [],
      "collapsed_sections": [],
      "toc_visible": true,
      "mount_file_id": "1jqMoRLERkltgPkOdEdSuRd9Cvc6TPsS-",
      "authorship_tag": "ABX9TyMqNfFeH3lP+zMUyBtTetUL",
      "include_colab_link": true
    },
    "kernelspec": {
      "name": "python3",
      "display_name": "Python 3"
    }
  },
  "cells": [
    {
      "cell_type": "markdown",
      "metadata": {
        "id": "view-in-github",
        "colab_type": "text"
      },
      "source": [
        "<a href=\"https://colab.research.google.com/github/ralsouza/machine_learning_python/blob/master/notebooks/03_machine_learning_regression.ipynb\" target=\"_parent\"><img src=\"https://colab.research.google.com/assets/colab-badge.svg\" alt=\"Open In Colab\"/></a>"
      ]
    },
    {
      "cell_type": "markdown",
      "metadata": {
        "id": "WsL4rG494j7K",
        "colab_type": "text"
      },
      "source": [
        "# 1. Define the business problem\n",
        "Let's create a predictive model that is able to predict the house's prices based on a set of variables about in several houses in an neibourhood in Boston.\n",
        "\n",
        "Dataset: https://www.cs.toronto.edu/~delve/data/boston/bostonDetail.html\n",
        "\n",
        "Variables\n",
        "There are 14 attributes in each case of the dataset. They are:\n",
        "* CRIM - per capita crime rate by town\n",
        "* ZN - proportion of residential land zoned for lots over 25,000 sq.ft.\n",
        "* INDUS - proportion of non-retail business acres per town.\n",
        "* CHAS - Charles River dummy variable (1 if tract bounds river; 0 otherwise)\n",
        "* NOX - nitric oxides concentration (parts per 10 million)\n",
        "* RM - average number of rooms per dwelling\n",
        "* AGE - proportion of owner-occupied units built prior to 1940\n",
        "* DIS - weighted distances to five Boston employment centres\n",
        "* RAD - index of accessibility to radial highways\n",
        "* TAX - full-value property-tax rate per $10,000\n",
        "* PTRATIO - pupil-teacher ratio by town\n",
        "* B - 1000(Bk - 0.63)^2 where Bk is the proportion of blacks by town\n",
        "* LSTAT - % lower status of the population\n",
        "* MEDV - Median value of owner-occupied homes in $1000's"
      ]
    },
    {
      "cell_type": "markdown",
      "metadata": {
        "id": "pfSAnAw5wgD9",
        "colab_type": "text"
      },
      "source": [
        "# 2. Model Evaluation\n",
        "https://scikit-learn.org/stable/modules/model_evaluation.html"
      ]
    },
    {
      "cell_type": "markdown",
      "metadata": {
        "id": "C7bCN5tSxE9h",
        "colab_type": "text"
      },
      "source": [
        "## 2.1 Metrics to Regression Algorithms\n",
        "\n",
        "- Mean Squared Error (MSE)\n",
        "- Root Mean Squared Error (RMSE)\n",
        "- Mean Absolute Error (MAE)\n",
        "- R Squared (R²)\n",
        "- Adjusted R Squared (R²)\n",
        "- Mean Square Percentage Error (MSPE)\n",
        "- Mean Absolute Percentage Error (MAPE)\n",
        "- Root Mean Squared Logarithmic Error (RMSLE)\n"
      ]
    },
    {
      "cell_type": "markdown",
      "metadata": {
        "id": "I_yYIs4LxQOm",
        "colab_type": "text"
      },
      "source": [
        "### 2.1.1 MSE\n",
        "Probably the most simple and comum metric to regression evaluation, but useless too. The MSE measures the mean squared error. To each point, calculates the squared difference between predictions and the real value of target variable and then calculates the mean of these values.\n",
        "\n",
        "How bigger this value, worse the model will be. This value never be negative, since we are elevating the individual prediction errors to square, but could be zero to a perfect model.\n",
        "\n",
        "The higher the percentage, the worse the performance."
      ]
    },
    {
      "cell_type": "code",
      "metadata": {
        "id": "OgzZaQIk3r7B",
        "colab_type": "code",
        "colab": {
          "base_uri": "https://localhost:8080/",
          "height": 34
        },
        "outputId": "0720b764-3a89-4d10-c3ac-3a9ce84b5ca5"
      },
      "source": [
        "# Import modules\n",
        "from pandas import read_csv\n",
        "from sklearn.model_selection import train_test_split\n",
        "from sklearn.metrics import mean_squared_error\n",
        "from sklearn.linear_model import LinearRegression\n",
        "\n",
        "# Loading data\n",
        "file = '/content/drive/My Drive/Colab Notebooks/07_machine_learning/data/boston-houses.csv'\n",
        "col = ['CRIM', 'ZN', 'INDUS', 'CHAS', 'NOX', 'RM', 'AGE', 'DIS', 'RAD', 'TAX', 'PTRATIO','B', 'LSTAT', 'MEDV']\n",
        "data = read_csv(file, delim_whitespace = True, names = col)\n",
        "array = data.values\n",
        "\n",
        "\n",
        "# Separating the array on input and output components\n",
        "X = array[:,0:13]\n",
        "Y = array[:,13]\n",
        "\n",
        "# Define train and teste datasets\n",
        "X_train, X_test, Y_train, Y_test = train_test_split(X, Y, test_size = 0.33, random_state = 5)\n",
        "\n",
        "# Making model\n",
        "model = LinearRegression()\n",
        "\n",
        "# Training the model\n",
        "model.fit(X_train,Y_train)\n",
        "\n",
        "# Making Predictions\n",
        "Y_pred = model.predict(X_test)\n",
        "\n",
        "# Results\n",
        "mse = mean_squared_error(Y_test,Y_pred)\n",
        "print('MSE: ', mse)"
      ],
      "execution_count": 7,
      "outputs": [
        {
          "output_type": "stream",
          "text": [
            "MSE:  28.53045876597476\n"
          ],
          "name": "stdout"
        }
      ]
    },
    {
      "cell_type": "markdown",
      "metadata": {
        "id": "sZh6B5uNy32Q",
        "colab_type": "text"
      },
      "source": [
        "### 2.1.2 MAE\n",
        "Mean Absolute Error, is the difference of the sum between predictions and real values. Provides how wrong are our predictions, the value `0` indicates that there are no errors."
      ]
    },
    {
      "cell_type": "code",
      "metadata": {
        "id": "P_Nu7Zg04aiF",
        "colab_type": "code",
        "colab": {
          "base_uri": "https://localhost:8080/",
          "height": 34
        },
        "outputId": "cb8d612c-c8f9-456d-a055-78aae2657c73"
      },
      "source": [
        "# Import modules\n",
        "from pandas import read_csv\n",
        "from sklearn.model_selection import train_test_split\n",
        "from sklearn.metrics import mean_absolute_error\n",
        "from sklearn.linear_model import LinearRegression\n",
        "\n",
        "# Loading data\n",
        "file = '/content/drive/My Drive/Colab Notebooks/07_machine_learning/data/boston-houses.csv'\n",
        "col = ['CRIM', 'ZN', 'INDUS', 'CHAS', 'NOX', 'RM', 'AGE', 'DIS', 'RAD', 'TAX', 'PTRATIO','B', 'LSTAT', 'MEDV']\n",
        "data = read_csv(file, delim_whitespace = True, names = col)\n",
        "array = data.values\n",
        "\n",
        "\n",
        "# Separating the array on input and output components\n",
        "X = array[:,0:13]\n",
        "Y = array[:,13]\n",
        "\n",
        "# Define train and teste datasets\n",
        "X_train, X_test, Y_train, Y_test = train_test_split(X, Y, test_size = 0.33, random_state = 5)\n",
        "\n",
        "# Making model\n",
        "model = LinearRegression()\n",
        "\n",
        "# Training the model\n",
        "model.fit(X_train,Y_train)\n",
        "\n",
        "# Making Predictions\n",
        "Y_pred = model.predict(X_test)\n",
        "\n",
        "# Results\n",
        "mae = mean_absolute_error(Y_test,Y_pred)\n",
        "print('MAE: ', mae)"
      ],
      "execution_count": 10,
      "outputs": [
        {
          "output_type": "stream",
          "text": [
            "MAE:  3.455034932248358\n"
          ],
          "name": "stdout"
        }
      ]
    },
    {
      "cell_type": "markdown",
      "metadata": {
        "id": "lNNwBN7B49r_",
        "colab_type": "text"
      },
      "source": [
        "### 2.1.3 Rˆ2\n",
        "This metric provides the precision level about the observated values. Also called coefficient of determination.\n",
        "Values between `0`and `1`, being `0` the ideial."
      ]
    },
    {
      "cell_type": "code",
      "metadata": {
        "id": "RO9ZNxuT5wck",
        "colab_type": "code",
        "colab": {
          "base_uri": "https://localhost:8080/",
          "height": 34
        },
        "outputId": "a233e93c-3900-4dc7-d6c4-d171de1e0ad1"
      },
      "source": [
        "# Import modules\n",
        "from pandas import read_csv\n",
        "from sklearn.model_selection import train_test_split\n",
        "from sklearn.metrics import r2_score\n",
        "from sklearn.linear_model import LinearRegression\n",
        "\n",
        "# Loading data\n",
        "file = '/content/drive/My Drive/Colab Notebooks/07_machine_learning/data/boston-houses.csv'\n",
        "col = ['CRIM', 'ZN', 'INDUS', 'CHAS', 'NOX', 'RM', 'AGE', 'DIS', 'RAD', 'TAX', 'PTRATIO','B', 'LSTAT', 'MEDV']\n",
        "data = read_csv(file, delim_whitespace = True, names = col)\n",
        "array = data.values\n",
        "\n",
        "\n",
        "# Separating the array on input and output components\n",
        "X = array[:,0:13]\n",
        "Y = array[:,13]\n",
        "\n",
        "# Define train and teste datasets\n",
        "X_train, X_test, Y_train, Y_test = train_test_split(X, Y, test_size = 0.33, random_state = 5)\n",
        "\n",
        "# Making model\n",
        "model = LinearRegression()\n",
        "\n",
        "# Training the model\n",
        "model.fit(X_train,Y_train)\n",
        "\n",
        "# Making Predictions\n",
        "Y_pred = model.predict(X_test)\n",
        "\n",
        "# Results\n",
        "r2 = r2_score(Y_test,Y_pred)\n",
        "print('r2 score: ', r2)"
      ],
      "execution_count": 12,
      "outputs": [
        {
          "output_type": "stream",
          "text": [
            "r2 score:  0.6956551656111588\n"
          ],
          "name": "stdout"
        }
      ]
    }
  ]
}