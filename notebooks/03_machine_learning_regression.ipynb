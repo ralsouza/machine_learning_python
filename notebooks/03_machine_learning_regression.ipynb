{
  "nbformat": 4,
  "nbformat_minor": 0,
  "metadata": {
    "colab": {
      "name": "03_machine_learning_regression.ipynb",
      "provenance": [],
      "collapsed_sections": [],
      "toc_visible": true,
      "mount_file_id": "1jqMoRLERkltgPkOdEdSuRd9Cvc6TPsS-",
      "authorship_tag": "ABX9TyMZQRQdzqp//YnixPgsmrNu",
      "include_colab_link": true
    },
    "kernelspec": {
      "name": "python3",
      "display_name": "Python 3"
    }
  },
  "cells": [
    {
      "cell_type": "markdown",
      "metadata": {
        "id": "view-in-github",
        "colab_type": "text"
      },
      "source": [
        "<a href=\"https://colab.research.google.com/github/ralsouza/machine_learning_python/blob/master/notebooks/03_machine_learning_regression.ipynb\" target=\"_parent\"><img src=\"https://colab.research.google.com/assets/colab-badge.svg\" alt=\"Open In Colab\"/></a>"
      ]
    },
    {
      "cell_type": "markdown",
      "metadata": {
        "id": "WsL4rG494j7K",
        "colab_type": "text"
      },
      "source": [
        "# 1. Define the business problem\n",
        "Let's create a predictive model that is able to predict the house's prices based on a set of variables about in several houses in an neibourhood in Boston.\n",
        "\n",
        "Dataset: https://www.cs.toronto.edu/~delve/data/boston/bostonDetail.html\n",
        "\n",
        "Variables\n",
        "There are 14 attributes in each case of the dataset. They are:\n",
        "* CRIM - per capita crime rate by town\n",
        "* ZN - proportion of residential land zoned for lots over 25,000 sq.ft.\n",
        "* INDUS - proportion of non-retail business acres per town.\n",
        "* CHAS - Charles River dummy variable (1 if tract bounds river; 0 otherwise)\n",
        "* NOX - nitric oxides concentration (parts per 10 million)\n",
        "* RM - average number of rooms per dwelling\n",
        "* AGE - proportion of owner-occupied units built prior to 1940\n",
        "* DIS - weighted distances to five Boston employment centres\n",
        "* RAD - index of accessibility to radial highways\n",
        "* TAX - full-value property-tax rate per $10,000\n",
        "* PTRATIO - pupil-teacher ratio by town\n",
        "* B - 1000(Bk - 0.63)^2 where Bk is the proportion of blacks by town\n",
        "* LSTAT - % lower status of the population\n",
        "* MEDV - Median value of owner-occupied homes in $1000's"
      ]
    },
    {
      "cell_type": "markdown",
      "metadata": {
        "id": "pfSAnAw5wgD9",
        "colab_type": "text"
      },
      "source": [
        "# 2. Model Evaluation\n",
        "https://scikit-learn.org/stable/modules/model_evaluation.html"
      ]
    },
    {
      "cell_type": "markdown",
      "metadata": {
        "id": "C7bCN5tSxE9h",
        "colab_type": "text"
      },
      "source": [
        "## 2.1 Metrics to Regression Algorithms\n",
        "\n",
        "- Mean Squared Error (MSE)\n",
        "- Root Mean Squared Error (RMSE)\n",
        "- Mean Absolute Error (MAE)\n",
        "- R Squared (R²)\n",
        "- Adjusted R Squared (R²)\n",
        "- Mean Square Percentage Error (MSPE)\n",
        "- Mean Absolute Percentage Error (MAPE)\n",
        "- Root Mean Squared Logarithmic Error (RMSLE)\n"
      ]
    },
    {
      "cell_type": "markdown",
      "metadata": {
        "id": "I_yYIs4LxQOm",
        "colab_type": "text"
      },
      "source": [
        "### 2.1.1 MSE\n",
        "Probably the most simple and comum metric to regression evaluation, but useless too. The MSE measures the mean squared error. To each point, calculates the squared difference between predictions and the real value of target variable and then calculates the mean of these values.\n",
        "\n",
        "How bigger this value, worse the model will be. This value never be negative, since we are elevating the individual prediction errors to square, but could be zero to a perfect model.\n",
        "\n",
        "The higher the percentage, the worse the performance."
      ]
    },
    {
      "cell_type": "code",
      "metadata": {
        "id": "OgzZaQIk3r7B",
        "colab_type": "code",
        "colab": {
          "base_uri": "https://localhost:8080/",
          "height": 34
        },
        "outputId": "0720b764-3a89-4d10-c3ac-3a9ce84b5ca5"
      },
      "source": [
        "# Import modules\n",
        "from pandas import read_csv\n",
        "from sklearn.model_selection import train_test_split\n",
        "from sklearn.metrics import mean_squared_error\n",
        "from sklearn.linear_model import LinearRegression\n",
        "\n",
        "# Loading data\n",
        "file = '/content/drive/My Drive/Colab Notebooks/07_machine_learning/data/boston-houses.csv'\n",
        "col = ['CRIM', 'ZN', 'INDUS', 'CHAS', 'NOX', 'RM', 'AGE', 'DIS', 'RAD', 'TAX', 'PTRATIO','B', 'LSTAT', 'MEDV']\n",
        "data = read_csv(file, delim_whitespace = True, names = col)\n",
        "array = data.values\n",
        "\n",
        "\n",
        "# Separating the array on input and output components\n",
        "X = array[:,0:13]\n",
        "Y = array[:,13]\n",
        "\n",
        "# Define train and teste datasets\n",
        "X_train, X_test, Y_train, Y_test = train_test_split(X, Y, test_size = 0.33, random_state = 5)\n",
        "\n",
        "# Making model\n",
        "model = LinearRegression()\n",
        "\n",
        "# Training the model\n",
        "model.fit(X_train,Y_train)\n",
        "\n",
        "# Making Predictions\n",
        "Y_pred = model.predict(X_test)\n",
        "\n",
        "# Results\n",
        "mse = mean_squared_error(Y_test,Y_pred)\n",
        "print('MSE: ', mse)"
      ],
      "execution_count": null,
      "outputs": [
        {
          "output_type": "stream",
          "text": [
            "MSE:  28.53045876597476\n"
          ],
          "name": "stdout"
        }
      ]
    },
    {
      "cell_type": "markdown",
      "metadata": {
        "id": "sZh6B5uNy32Q",
        "colab_type": "text"
      },
      "source": [
        "### 2.1.2 MAE\n",
        "Mean Absolute Error, is the difference of the sum between predictions and real values. Provides how wrong are our predictions, the value `0` indicates that there are no errors."
      ]
    },
    {
      "cell_type": "code",
      "metadata": {
        "id": "P_Nu7Zg04aiF",
        "colab_type": "code",
        "colab": {
          "base_uri": "https://localhost:8080/",
          "height": 34
        },
        "outputId": "cb8d612c-c8f9-456d-a055-78aae2657c73"
      },
      "source": [
        "# Import modules\n",
        "from pandas import read_csv\n",
        "from sklearn.model_selection import train_test_split\n",
        "from sklearn.metrics import mean_absolute_error\n",
        "from sklearn.linear_model import LinearRegression\n",
        "\n",
        "# Loading data\n",
        "file = '/content/drive/My Drive/Colab Notebooks/07_machine_learning/data/boston-houses.csv'\n",
        "col = ['CRIM', 'ZN', 'INDUS', 'CHAS', 'NOX', 'RM', 'AGE', 'DIS', 'RAD', 'TAX', 'PTRATIO','B', 'LSTAT', 'MEDV']\n",
        "data = read_csv(file, delim_whitespace = True, names = col)\n",
        "array = data.values\n",
        "\n",
        "\n",
        "# Separating the array on input and output components\n",
        "X = array[:,0:13]\n",
        "Y = array[:,13]\n",
        "\n",
        "# Define train and teste datasets\n",
        "X_train, X_test, Y_train, Y_test = train_test_split(X, Y, test_size = 0.33, random_state = 5)\n",
        "\n",
        "# Making model\n",
        "model = LinearRegression()\n",
        "\n",
        "# Training the model\n",
        "model.fit(X_train,Y_train)\n",
        "\n",
        "# Making Predictions\n",
        "Y_pred = model.predict(X_test)\n",
        "\n",
        "# Results\n",
        "mae = mean_absolute_error(Y_test,Y_pred)\n",
        "print('MAE: ', mae)"
      ],
      "execution_count": null,
      "outputs": [
        {
          "output_type": "stream",
          "text": [
            "MAE:  3.455034932248358\n"
          ],
          "name": "stdout"
        }
      ]
    },
    {
      "cell_type": "markdown",
      "metadata": {
        "id": "lNNwBN7B49r_",
        "colab_type": "text"
      },
      "source": [
        "### 2.1.3 Rˆ2\n",
        "This metric provides the precision level about the observated values. Also called coefficient of determination.\n",
        "Values between `0`and `1`, being `0` the ideial."
      ]
    },
    {
      "cell_type": "code",
      "metadata": {
        "id": "RO9ZNxuT5wck",
        "colab_type": "code",
        "colab": {
          "base_uri": "https://localhost:8080/",
          "height": 34
        },
        "outputId": "a233e93c-3900-4dc7-d6c4-d171de1e0ad1"
      },
      "source": [
        "# Import modules\n",
        "from pandas import read_csv\n",
        "from sklearn.model_selection import train_test_split\n",
        "from sklearn.metrics import r2_score\n",
        "from sklearn.linear_model import LinearRegression\n",
        "\n",
        "# Loading data\n",
        "file = '/content/drive/My Drive/Colab Notebooks/07_machine_learning/data/boston-houses.csv'\n",
        "col = ['CRIM', 'ZN', 'INDUS', 'CHAS', 'NOX', 'RM', 'AGE', 'DIS', 'RAD', 'TAX', 'PTRATIO','B', 'LSTAT', 'MEDV']\n",
        "data = read_csv(file, delim_whitespace = True, names = col)\n",
        "array = data.values\n",
        "\n",
        "\n",
        "# Separating the array on input and output components\n",
        "X = array[:,0:13]\n",
        "Y = array[:,13]\n",
        "\n",
        "# Define train and teste datasets\n",
        "X_train, X_test, Y_train, Y_test = train_test_split(X, Y, test_size = 0.33, random_state = 5)\n",
        "\n",
        "# Making model\n",
        "model = LinearRegression()\n",
        "\n",
        "# Training the model\n",
        "model.fit(X_train,Y_train)\n",
        "\n",
        "# Making Predictions\n",
        "Y_pred = model.predict(X_test)\n",
        "\n",
        "# Results\n",
        "r2 = r2_score(Y_test,Y_pred)\n",
        "print('r2 score: ', r2)"
      ],
      "execution_count": null,
      "outputs": [
        {
          "output_type": "stream",
          "text": [
            "r2 score:  0.6956551656111588\n"
          ],
          "name": "stdout"
        }
      ]
    },
    {
      "cell_type": "markdown",
      "metadata": {
        "id": "C7AlF4nu6rDT",
        "colab_type": "text"
      },
      "source": [
        "# 3. Regression Algorithms\n",
        "Assumes that the data are in Normal Distribuition, that the values are relevant to model and aren't collinears (variables with high correlation). The data scientist must deliver relevant variables to the algorithm.\n"
      ]
    },
    {
      "cell_type": "markdown",
      "metadata": {
        "id": "YShubiyz68Ru",
        "colab_type": "text"
      },
      "source": [
        "## 3.1 Linear Regression"
      ]
    },
    {
      "cell_type": "code",
      "metadata": {
        "id": "Ot7DMJZ59OCL",
        "colab_type": "code",
        "colab": {
          "base_uri": "https://localhost:8080/",
          "height": 34
        },
        "outputId": "41973d92-2dd5-461f-c789-c8e15d7ed570"
      },
      "source": [
        "# Import modules\n",
        "from pandas import read_csv\n",
        "from sklearn.model_selection import train_test_split\n",
        "from sklearn.metrics import mean_squared_error\n",
        "from sklearn.linear_model import LinearRegression\n",
        "\n",
        "# Loading data\n",
        "file = '/content/drive/My Drive/Colab Notebooks/07_machine_learning/data/boston-houses.csv'\n",
        "cols = ['CRIM', 'ZN', 'INDUS', 'CHAS', 'NOX', 'RM', 'AGE', 'DIS', 'RAD', 'TAX', 'PTRATIO','B', 'LSTAT', 'MEDV']\n",
        "data = read_csv(file, delim_whitespace = True, names = cols)\n",
        "array = data.values\n",
        "\n",
        "# Separating the array on input and output components\n",
        "X = array[:,0:13]\n",
        "Y = array[:,13]\n",
        "\n",
        "# Separate the data into train and test\n",
        "X_train, X_test, Y_train, Y_test = train_test_split(X, Y, test_size = 0.33)\n",
        "\n",
        "# Create model\n",
        "model = LinearRegression()\n",
        "\n",
        "# Train model\n",
        "model.fit(X_train, Y_train)\n",
        "\n",
        "# Make prediction\n",
        "Y_pred = model.predict(X_test)\n",
        "\n",
        "# Result\n",
        "mse = mean_squared_error(Y_test, Y_pred)\n",
        "print(\"MSE is:\", mse)"
      ],
      "execution_count": 4,
      "outputs": [
        {
          "output_type": "stream",
          "text": [
            "MSE is: 25.659298567970456\n"
          ],
          "name": "stdout"
        }
      ]
    },
    {
      "cell_type": "markdown",
      "metadata": {
        "id": "D9LxpPCt8Ob0",
        "colab_type": "text"
      },
      "source": [
        "## 3.2 Ridge Regression\n",
        "An extension of linear regression where the `loss function` is modified to minimize the model complexity."
      ]
    },
    {
      "cell_type": "code",
      "metadata": {
        "id": "2ih4OyVv8feH",
        "colab_type": "code",
        "colab": {
          "base_uri": "https://localhost:8080/",
          "height": 34
        },
        "outputId": "1d53716f-1292-4ef4-e1e0-cc1e34215794"
      },
      "source": [
        "# Import modules\n",
        "from pandas import read_csv\n",
        "from sklearn.model_selection import train_test_split\n",
        "from sklearn.metrics import mean_squared_error\n",
        "from sklearn.linear_model import Ridge\n",
        "\n",
        "# Loading data\n",
        "file = '/content/drive/My Drive/Colab Notebooks/07_machine_learning/data/boston-houses.csv'\n",
        "cols = ['CRIM', 'ZN', 'INDUS', 'CHAS', 'NOX', 'RM', 'AGE', 'DIS', 'RAD', 'TAX', 'PTRATIO','B', 'LSTAT', 'MEDV']\n",
        "data = read_csv(file, delim_whitespace = True, names = cols)\n",
        "array = data.values\n",
        "\n",
        "# Separating the array on input and output components\n",
        "X = array[:,0:13]\n",
        "Y = array[:,13]\n",
        "\n",
        "# Separate the data into train and test\n",
        "X_train, X_test, Y_train, Y_test = train_test_split(X, Y, test_size = 0.33)\n",
        "\n",
        "# Create model\n",
        "model = Ridge()\n",
        "\n",
        "# Train model\n",
        "model.fit(X_train, Y_train)\n",
        "\n",
        "# Make prediction\n",
        "Y_pred = model.predict(X_test)\n",
        "\n",
        "# Result\n",
        "mse = mean_squared_error(Y_test, Y_pred)\n",
        "print(\"MSE is:\", mse)"
      ],
      "execution_count": 5,
      "outputs": [
        {
          "output_type": "stream",
          "text": [
            "MSE is: 28.42802678081147\n"
          ],
          "name": "stdout"
        }
      ]
    },
    {
      "cell_type": "markdown",
      "metadata": {
        "id": "VdIcXuOv8xL0",
        "colab_type": "text"
      },
      "source": [
        "## 3.3 Lasso Regression\n",
        "Lasso (Least Absolute Shrinkage and Selection Operator) Regression is a customization of linear regression and just as Ridge, the loss function is modified to minimize the model complexity."
      ]
    },
    {
      "cell_type": "code",
      "metadata": {
        "id": "4FdEUzG08vZk",
        "colab_type": "code",
        "colab": {
          "base_uri": "https://localhost:8080/",
          "height": 34
        },
        "outputId": "96358a0a-0a69-47f3-aff6-ee88ec5040cb"
      },
      "source": [
        "# Import modules\n",
        "from pandas import read_csv\n",
        "from sklearn.model_selection import train_test_split\n",
        "from sklearn.metrics import mean_squared_error\n",
        "from sklearn.linear_model import Lasso\n",
        "\n",
        "# Loading data\n",
        "file = '/content/drive/My Drive/Colab Notebooks/07_machine_learning/data/boston-houses.csv'\n",
        "cols = ['CRIM', 'ZN', 'INDUS', 'CHAS', 'NOX', 'RM', 'AGE', 'DIS', 'RAD', 'TAX', 'PTRATIO','B', 'LSTAT', 'MEDV']\n",
        "data = read_csv(file, delim_whitespace = True, names = cols)\n",
        "array = data.values\n",
        "\n",
        "# Separating the array on input and output components\n",
        "X = array[:,0:13]\n",
        "Y = array[:,13]\n",
        "\n",
        "# Separate the data into train and test\n",
        "X_train, X_test, Y_train, Y_test = train_test_split(X, Y, test_size = 0.33)\n",
        "\n",
        "# Create model\n",
        "model = Lasso()\n",
        "\n",
        "# Train model\n",
        "model.fit(X_train, Y_train)\n",
        "\n",
        "# Make prediction\n",
        "Y_pred = model.predict(X_test)\n",
        "\n",
        "# Result\n",
        "mse = mean_squared_error(Y_test, Y_pred)\n",
        "print(\"MSE is:\", mse)"
      ],
      "execution_count": 6,
      "outputs": [
        {
          "output_type": "stream",
          "text": [
            "MSE is: 18.989093683107722\n"
          ],
          "name": "stdout"
        }
      ]
    },
    {
      "cell_type": "markdown",
      "metadata": {
        "id": "8zO60gM29cjP",
        "colab_type": "text"
      },
      "source": [
        "## 3.4 ElasticNet Regression\n",
        "Is on way to regularize of regression that combine the propriets of Ridge and LASS. The goal is minimize the model complexity, penalizing the model using the sum of the squares of the coefficients."
      ]
    },
    {
      "cell_type": "code",
      "metadata": {
        "id": "jL_KOWkN9Xoc",
        "colab_type": "code",
        "colab": {
          "base_uri": "https://localhost:8080/",
          "height": 34
        },
        "outputId": "6fbbc7ab-9329-46b7-9f86-ee432b7d8f2d"
      },
      "source": [
        "# Import modules\n",
        "from pandas import read_csv\n",
        "from sklearn.model_selection import train_test_split\n",
        "from sklearn.metrics import mean_squared_error\n",
        "from sklearn.linear_model import ElasticNet\n",
        "\n",
        "# Loading data\n",
        "file = '/content/drive/My Drive/Colab Notebooks/07_machine_learning/data/boston-houses.csv'\n",
        "cols = ['CRIM', 'ZN', 'INDUS', 'CHAS', 'NOX', 'RM', 'AGE', 'DIS', 'RAD', 'TAX', 'PTRATIO','B', 'LSTAT', 'MEDV']\n",
        "data = read_csv(file, delim_whitespace = True, names = cols)\n",
        "array = data.values\n",
        "\n",
        "# Separating the array on input and output components\n",
        "X = array[:,0:13]\n",
        "Y = array[:,13]\n",
        "\n",
        "# Separate the data into train and test\n",
        "X_train, X_test, Y_train, Y_test = train_test_split(X, Y, test_size = 0.33)\n",
        "\n",
        "# Create model\n",
        "model = ElasticNet()\n",
        "\n",
        "# Train model\n",
        "model.fit(X_train, Y_train)\n",
        "\n",
        "# Make prediction\n",
        "Y_pred = model.predict(X_test)\n",
        "\n",
        "# Result\n",
        "mse = mean_squared_error(Y_test, Y_pred)\n",
        "print(\"MSE is:\", mse)"
      ],
      "execution_count": 7,
      "outputs": [
        {
          "output_type": "stream",
          "text": [
            "MSE is: 28.189466092930203\n"
          ],
          "name": "stdout"
        }
      ]
    },
    {
      "cell_type": "markdown",
      "metadata": {
        "id": "bvfNupBJ-3E3",
        "colab_type": "text"
      },
      "source": [
        "## 3.5 KNN to Regression"
      ]
    },
    {
      "cell_type": "code",
      "metadata": {
        "id": "sSStIj7E-wwQ",
        "colab_type": "code",
        "colab": {
          "base_uri": "https://localhost:8080/",
          "height": 34
        },
        "outputId": "a7044bde-6896-4109-9a03-e22d1fa3fe8f"
      },
      "source": [
        "# Import modules\n",
        "from pandas import read_csv\n",
        "from sklearn.model_selection import train_test_split\n",
        "from sklearn.metrics import mean_squared_error\n",
        "from sklearn.neighbors import KNeighborsRegressor\n",
        "\n",
        "# Loading data\n",
        "file = '/content/drive/My Drive/Colab Notebooks/07_machine_learning/data/boston-houses.csv'\n",
        "cols = ['CRIM', 'ZN', 'INDUS', 'CHAS', 'NOX', 'RM', 'AGE', 'DIS', 'RAD', 'TAX', 'PTRATIO','B', 'LSTAT', 'MEDV']\n",
        "data = read_csv(file, delim_whitespace = True, names = cols)\n",
        "array = data.values\n",
        "\n",
        "# Separating the array on input and output components\n",
        "X = array[:,0:13]\n",
        "Y = array[:,13]\n",
        "\n",
        "# Separate the data into train and test\n",
        "X_train, X_test, Y_train, Y_test = train_test_split(X, Y, test_size = 0.33)\n",
        "\n",
        "# Create model\n",
        "model = KNeighborsRegressor()\n",
        "\n",
        "# Train model\n",
        "model.fit(X_train, Y_train)\n",
        "\n",
        "# Make prediction\n",
        "Y_pred = model.predict(X_test)\n",
        "\n",
        "# Result\n",
        "mse = mean_squared_error(Y_test, Y_pred)\n",
        "print(\"MSE is:\", mse)"
      ],
      "execution_count": 9,
      "outputs": [
        {
          "output_type": "stream",
          "text": [
            "MSE is: 43.98385389221558\n"
          ],
          "name": "stdout"
        }
      ]
    },
    {
      "cell_type": "markdown",
      "metadata": {
        "id": "rOPYj_Ba_GWs",
        "colab_type": "text"
      },
      "source": [
        "## 3.6 CART"
      ]
    },
    {
      "cell_type": "code",
      "metadata": {
        "id": "Ebuawm4x-9TG",
        "colab_type": "code",
        "colab": {
          "base_uri": "https://localhost:8080/",
          "height": 34
        },
        "outputId": "e6ff385a-3d89-49c6-ad7e-735e5937906a"
      },
      "source": [
        "# Import modules\n",
        "from pandas import read_csv\n",
        "from sklearn.model_selection import train_test_split\n",
        "from sklearn.metrics import mean_squared_error\n",
        "from sklearn.tree import DecisionTreeRegressor\n",
        "\n",
        "# Loading data\n",
        "file = '/content/drive/My Drive/Colab Notebooks/07_machine_learning/data/boston-houses.csv'\n",
        "cols = ['CRIM', 'ZN', 'INDUS', 'CHAS', 'NOX', 'RM', 'AGE', 'DIS', 'RAD', 'TAX', 'PTRATIO','B', 'LSTAT', 'MEDV']\n",
        "data = read_csv(file, delim_whitespace = True, names = cols)\n",
        "array = data.values\n",
        "\n",
        "# Separating the array on input and output components\n",
        "X = array[:,0:13]\n",
        "Y = array[:,13]\n",
        "\n",
        "# Separate the data into train and test\n",
        "X_train, X_test, Y_train, Y_test = train_test_split(X, Y, test_size = 0.33)\n",
        "\n",
        "# Create model\n",
        "model = DecisionTreeRegressor()\n",
        "\n",
        "# Train model\n",
        "model.fit(X_train, Y_train)\n",
        "\n",
        "# Make prediction\n",
        "Y_pred = model.predict(X_test)\n",
        "\n",
        "# Result\n",
        "mse = mean_squared_error(Y_test, Y_pred)\n",
        "print(\"MSE is:\", mse)"
      ],
      "execution_count": 10,
      "outputs": [
        {
          "output_type": "stream",
          "text": [
            "MSE is: 15.947784431137729\n"
          ],
          "name": "stdout"
        }
      ]
    },
    {
      "cell_type": "markdown",
      "metadata": {
        "id": "LYXUApZU_UyR",
        "colab_type": "text"
      },
      "source": [
        "## 3.7 SVM to Regression"
      ]
    },
    {
      "cell_type": "code",
      "metadata": {
        "id": "Tszkqk3j_R89",
        "colab_type": "code",
        "colab": {
          "base_uri": "https://localhost:8080/",
          "height": 34
        },
        "outputId": "881d9f24-905a-4642-829f-48f96c21de4d"
      },
      "source": [
        "# Import modules\n",
        "from pandas import read_csv\n",
        "from sklearn.model_selection import train_test_split\n",
        "from sklearn.metrics import mean_squared_error\n",
        "from sklearn.svm import SVR\n",
        "\n",
        "# Loading data\n",
        "file = '/content/drive/My Drive/Colab Notebooks/07_machine_learning/data/boston-houses.csv'\n",
        "cols = ['CRIM', 'ZN', 'INDUS', 'CHAS', 'NOX', 'RM', 'AGE', 'DIS', 'RAD', 'TAX', 'PTRATIO','B', 'LSTAT', 'MEDV']\n",
        "data = read_csv(file, delim_whitespace = True, names = cols)\n",
        "array = data.values\n",
        "\n",
        "# Separating the array on input and output components\n",
        "X = array[:,0:13]\n",
        "Y = array[:,13]\n",
        "\n",
        "# Separate the data into train and test\n",
        "X_train, X_test, Y_train, Y_test = train_test_split(X, Y, test_size = 0.33)\n",
        "\n",
        "# Create model\n",
        "model = SVR()\n",
        "\n",
        "# Train model\n",
        "model.fit(X_train, Y_train)\n",
        "\n",
        "# Make prediction\n",
        "Y_pred = model.predict(X_test)\n",
        "\n",
        "# Result\n",
        "mse = mean_squared_error(Y_test, Y_pred)\n",
        "print(\"MSE is:\", mse)"
      ],
      "execution_count": 11,
      "outputs": [
        {
          "output_type": "stream",
          "text": [
            "MSE is: 74.91295307495547\n"
          ],
          "name": "stdout"
        }
      ]
    },
    {
      "cell_type": "markdown",
      "metadata": {
        "id": "lu70Dalp_0ju",
        "colab_type": "text"
      },
      "source": [
        "# 4. Optimize Model\n",
        "All of machine learning algorithm are configurable, that means that it can be adjusted thought parameters tuning. Your job is to find the best parameters to each algorithm.\n",
        "\n",
        "This process is also called `hyperparameters optimization`, the scikit-learn offers two methods: `Grid Search Parameter Tuning` and `Random Search Parameter Tuning`."
      ]
    },
    {
      "cell_type": "markdown",
      "metadata": {
        "id": "8Xe-brPsC9jo",
        "colab_type": "text"
      },
      "source": [
        "## 4.1 Grid Search Parameter Tuning\n",
        "This method creates methodically a combination between all parameters, making a grid. Bellow the value 1 reached the best performance. "
      ]
    },
    {
      "cell_type": "code",
      "metadata": {
        "id": "IQBWlXQ2_m-Q",
        "colab_type": "code",
        "colab": {
          "base_uri": "https://localhost:8080/",
          "height": 68
        },
        "outputId": "c0cbcc28-6947-4a0b-c4da-3db3620c6618"
      },
      "source": [
        "# Import modules\n",
        "from pandas import read_csv\n",
        "import numpy as np\n",
        "from sklearn.model_selection import GridSearchCV\n",
        "from sklearn.linear_model import Ridge\n",
        "\n",
        "# Loading data\n",
        "file = '/content/drive/My Drive/Colab Notebooks/07_machine_learning/data/boston-houses.csv'\n",
        "cols = ['CRIM', 'ZN', 'INDUS', 'CHAS', 'NOX', 'RM', 'AGE', 'DIS', 'RAD', 'TAX', 'PTRATIO','B', 'LSTAT', 'MEDV']\n",
        "data = read_csv(file, delim_whitespace = True, names = cols)\n",
        "array = data.values\n",
        "\n",
        "# Separating the array on input and output components\n",
        "X = array[:,0:13]\n",
        "Y = array[:,13]\n",
        "\n",
        "# Define the values that will be tested\n",
        "alpha_values = np.array([1,0.1,0.01,0.001,0.0001,0])\n",
        "grid_values = dict(alpha = alpha_values)\n",
        "\n",
        "# Create model\n",
        "model = Ridge()\n",
        "\n",
        "# Create the grid\n",
        "grid = GridSearchCV(estimator = model, param_grid = grid_values)\n",
        "grid.fit(X, Y)\n",
        "\n",
        "# Print result\n",
        "print(\"Best parameters:\\n\", grid.best_estimator_)"
      ],
      "execution_count": 12,
      "outputs": [
        {
          "output_type": "stream",
          "text": [
            "Best parameters:\n",
            " Ridge(alpha=1.0, copy_X=True, fit_intercept=True, max_iter=None,\n",
            "      normalize=False, random_state=None, solver='auto', tol=0.001)\n"
          ],
          "name": "stdout"
        }
      ]
    },
    {
      "cell_type": "markdown",
      "metadata": {
        "id": "9-lc5isxEPyM",
        "colab_type": "text"
      },
      "source": [
        "## 4.2 Random Search Parameter Tuning\n",
        "This method generate parameters samples from a randomic uniform distribuition to a fix iteration number. The model is built and tested to each parameter combination. Bellow the near value of 1 will show the best result."
      ]
    },
    {
      "cell_type": "code",
      "metadata": {
        "id": "mo9nMBhiEytF",
        "colab_type": "code",
        "colab": {
          "base_uri": "https://localhost:8080/",
          "height": 68
        },
        "outputId": "888e15fe-3b41-4444-f894-fb15cc10f8f7"
      },
      "source": [
        "# Import dos módulos\n",
        "from pandas import read_csv\n",
        "import numpy as np\n",
        "from scipy.stats import uniform\n",
        "from sklearn.linear_model import Ridge\n",
        "from sklearn.model_selection import RandomizedSearchCV\n",
        "\n",
        "# Carregando os dados\n",
        "arquivo = '/content/drive/My Drive/Colab Notebooks/07_machine_learning/data/boston-houses.csv'\n",
        "colunas = ['CRIM', 'ZN', 'INDUS', 'CHAS', 'NOX', 'RM', 'AGE', 'DIS', 'RAD', 'TAX', 'PTRATIO','B', 'LSTAT', 'MEDV']\n",
        "dados = read_csv(arquivo, delim_whitespace = True, names = colunas)\n",
        "array = dados.values\n",
        "\n",
        "# Separando o array em componentes de input e output\n",
        "X = array[:,0:8]\n",
        "Y = array[:,8]\n",
        "\n",
        "# Definindo os valores que serão testados\n",
        "valores_grid = {'alpha': uniform()}\n",
        "seed = 7\n",
        "\n",
        "# Criando o modelo\n",
        "modelo = Ridge()\n",
        "iterations = 100\n",
        "rsearch = RandomizedSearchCV(estimator = modelo, \n",
        "                             param_distributions = valores_grid, \n",
        "                             n_iter = iterations, \n",
        "                             random_state = seed)\n",
        "rsearch.fit(X, Y)\n",
        "\n",
        "# Print do resultado\n",
        "print(\"Melhores Parâmetros do Modelo:\\n\", rsearch.best_estimator_)"
      ],
      "execution_count": 15,
      "outputs": [
        {
          "output_type": "stream",
          "text": [
            "Melhores Parâmetros do Modelo:\n",
            " Ridge(alpha=0.9779895119966027, copy_X=True, fit_intercept=True, max_iter=None,\n",
            "      normalize=False, random_state=None, solver='auto', tol=0.001)\n"
          ],
          "name": "stdout"
        }
      ]
    },
    {
      "cell_type": "markdown",
      "metadata": {
        "id": "GkG0FbQ9Ffix",
        "colab_type": "text"
      },
      "source": [
        "# 5. Saving Results"
      ]
    },
    {
      "cell_type": "code",
      "metadata": {
        "id": "Cs2AMwUfFOIy",
        "colab_type": "code",
        "colab": {
          "base_uri": "https://localhost:8080/",
          "height": 68
        },
        "outputId": "ac7c1124-a159-4c38-f305-2dddc8a4b27c"
      },
      "source": [
        "# Import dos módulos\n",
        "from pandas import read_csv\n",
        "from sklearn.model_selection import train_test_split\n",
        "from sklearn.metrics import mean_squared_error\n",
        "from sklearn.linear_model import Ridge\n",
        "import pickle\n",
        "\n",
        "# Carregando os dados\n",
        "arquivo = '/content/drive/My Drive/Colab Notebooks/07_machine_learning/data/boston-houses.csv'\n",
        "colunas = ['CRIM', 'ZN', 'INDUS', 'CHAS', 'NOX', 'RM', 'AGE', 'DIS', 'RAD', 'TAX', 'PTRATIO','B', 'LSTAT', 'MEDV']\n",
        "dados = read_csv(arquivo, delim_whitespace = True, names = colunas)\n",
        "array = dados.values\n",
        "\n",
        "# Separando o array em componentes de input e output\n",
        "X = array[:,0:13]\n",
        "Y = array[:,13]\n",
        "\n",
        "# Definindo os valores para o número de folds\n",
        "teste_size = 0.35\n",
        "seed = 7\n",
        "\n",
        "# Criando o dataset de treino e de teste\n",
        "X_treino, X_teste, Y_treino, Y_teste = train_test_split(X, Y, test_size = teste_size, random_state = seed)\n",
        "\n",
        "# Criando o modelo\n",
        "modelo = Ridge()\n",
        "\n",
        "# Treinando o modelo\n",
        "modelo.fit(X_treino, Y_treino)\n",
        "\n",
        "# Salvando o modelo\n",
        "arquivo = '/content/drive/My Drive/Colab Notebooks/07_machine_learning/data/modelo_regressor_final.sav'\n",
        "pickle.dump(modelo, open(arquivo, 'wb'))\n",
        "print(\"Modelo salvo!\")\n",
        "\n",
        "# Carregando o arquivo\n",
        "modelo_regressor_final = pickle.load(open(arquivo, 'rb'))\n",
        "print(\"Modelo carregado!\")\n",
        "\n",
        "# Print do resultado\n",
        "# Fazendo previsões\n",
        "Y_pred = modelo_regressor_final.predict(X_test)\n",
        "\n",
        "# Resultado\n",
        "mse = mean_squared_error(Y_test, Y_pred)\n",
        "print(\"O MSE do modelo é:\", mse)"
      ],
      "execution_count": 16,
      "outputs": [
        {
          "output_type": "stream",
          "text": [
            "Modelo salvo!\n",
            "Modelo carregado!\n",
            "O MSE do modelo é: 30.524598974146706\n"
          ],
          "name": "stdout"
        }
      ]
    }
  ]
}