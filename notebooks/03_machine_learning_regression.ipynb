{
  "nbformat": 4,
  "nbformat_minor": 0,
  "metadata": {
    "colab": {
      "name": "03_machine_learning_regression.ipynb",
      "provenance": [],
      "collapsed_sections": [],
      "authorship_tag": "ABX9TyOxtLU4EGakQy0xpVB8S7R8",
      "include_colab_link": true
    },
    "kernelspec": {
      "name": "python3",
      "display_name": "Python 3"
    }
  },
  "cells": [
    {
      "cell_type": "markdown",
      "metadata": {
        "id": "view-in-github",
        "colab_type": "text"
      },
      "source": [
        "<a href=\"https://colab.research.google.com/github/ralsouza/machine_learning_python/blob/master/notebooks/03_machine_learning_regression.ipynb\" target=\"_parent\"><img src=\"https://colab.research.google.com/assets/colab-badge.svg\" alt=\"Open In Colab\"/></a>"
      ]
    },
    {
      "cell_type": "markdown",
      "metadata": {
        "id": "WsL4rG494j7K",
        "colab_type": "text"
      },
      "source": [
        "# 1. Define the business problem\n",
        "Let's create a predictive model that is able to predict the house's prices based on a set of variables about in several houses in an neibourhood in Boston.\n",
        "\n",
        "Dataset: https://www.cs.toronto.edu/~delve/data/boston/bostonDetail.html\n",
        "\n",
        "Variables\n",
        "There are 14 attributes in each case of the dataset. They are:\n",
        "* CRIM - per capita crime rate by town\n",
        "* ZN - proportion of residential land zoned for lots over 25,000 sq.ft.\n",
        "* INDUS - proportion of non-retail business acres per town.\n",
        "* CHAS - Charles River dummy variable (1 if tract bounds river; 0 otherwise)\n",
        "* NOX - nitric oxides concentration (parts per 10 million)\n",
        "* RM - average number of rooms per dwelling\n",
        "* AGE - proportion of owner-occupied units built prior to 1940\n",
        "* DIS - weighted distances to five Boston employment centres\n",
        "* RAD - index of accessibility to radial highways\n",
        "* TAX - full-value property-tax rate per $10,000\n",
        "* PTRATIO - pupil-teacher ratio by town\n",
        "* B - 1000(Bk - 0.63)^2 where Bk is the proportion of blacks by town\n",
        "* LSTAT - % lower status of the population\n",
        "* MEDV - Median value of owner-occupied homes in $1000's"
      ]
    },
    {
      "cell_type": "markdown",
      "metadata": {
        "id": "pfSAnAw5wgD9",
        "colab_type": "text"
      },
      "source": [
        "# 2. Model Evaluation\n",
        "https://scikit-learn.org/stable/modules/model_evaluation.html"
      ]
    },
    {
      "cell_type": "markdown",
      "metadata": {
        "id": "C7bCN5tSxE9h",
        "colab_type": "text"
      },
      "source": [
        "## 2.1 Metrics to Regression Algorithms\n",
        "\n",
        "- Mean Squared Error (MSE)\n",
        "- Root Mean Squared Error (RMSE)\n",
        "- Mean Absolute Error (MAE)\n",
        "- R Squared (R²)\n",
        "- Adjusted R Squared (R²)\n",
        "- Mean Square Percentage Error (MSPE)\n",
        "- Mean Absolute Percentage Error (MAPE)\n",
        "- Root Mean Squared Logarithmic Error (RMSLE)\n"
      ]
    },
    {
      "cell_type": "markdown",
      "metadata": {
        "id": "I_yYIs4LxQOm",
        "colab_type": "text"
      },
      "source": [
        "### 2.1.1 MSE\n",
        "Probably the most simple and comum metric to regression evaluation, but useless too. The MSE measures the mean squared error. To each point, calculates the squared difference between predictions and the real value of target variable and then calculates the mean of these values.\n",
        "\n",
        "How bigger this value, worse the model will be. This value never be negative, since we are elevating the individual prediction errors to square, but could be zero to a perfect model."
      ]
    },
    {
      "cell_type": "code",
      "metadata": {
        "id": "OgzZaQIk3r7B",
        "colab_type": "code",
        "colab": {}
      },
      "source": [
        ""
      ],
      "execution_count": null,
      "outputs": []
    }
  ]
}