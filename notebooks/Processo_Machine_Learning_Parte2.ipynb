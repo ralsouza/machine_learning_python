{
  "nbformat": 4,
  "nbformat_minor": 0,
  "metadata": {
    "anaconda-cloud": {},
    "kernelspec": {
      "display_name": "Python 3",
      "language": "python",
      "name": "python3"
    },
    "language_info": {
      "codemirror_mode": {
        "name": "ipython",
        "version": 3
      },
      "file_extension": ".py",
      "mimetype": "text/x-python",
      "name": "python",
      "nbconvert_exporter": "python",
      "pygments_lexer": "ipython3",
      "version": "3.7.3"
    },
    "colab": {
      "name": "Processo-Machine-Learning-Parte2.ipynb",
      "provenance": [],
      "include_colab_link": true
    }
  },
  "cells": [
    {
      "cell_type": "markdown",
      "metadata": {
        "id": "view-in-github",
        "colab_type": "text"
      },
      "source": [
        "<a href=\"https://colab.research.google.com/github/ralsouza/machine_learning_python/blob/master/notebooks/Processo_Machine_Learning_Parte2.ipynb\" target=\"_parent\"><img src=\"https://colab.research.google.com/assets/colab-badge.svg\" alt=\"Open In Colab\"/></a>"
      ]
    },
    {
      "cell_type": "markdown",
      "metadata": {
        "id": "6CAus20n-dJM",
        "colab_type": "text"
      },
      "source": [
        "# <font color='blue'>Data Science Academy</font>\n",
        "# <font color='blue'>Big Data Real-Time Analytics com Python e Spark</font>\n",
        "\n",
        "# <font color='blue'>Capítulo 6</font>"
      ]
    },
    {
      "cell_type": "markdown",
      "metadata": {
        "id": "FzrRulUI-dJQ",
        "colab_type": "text"
      },
      "source": [
        "# Machine Learning em Python - Parte 2 - Regressão"
      ]
    },
    {
      "cell_type": "code",
      "metadata": {
        "id": "zTHFwej8-dJT",
        "colab_type": "code",
        "colab": {},
        "outputId": "85e40a06-4437-4e91-95bd-d65391d1bd7c"
      },
      "source": [
        "from IPython.display import Image\n",
        "Image(url = 'images/processo.png')"
      ],
      "execution_count": null,
      "outputs": [
        {
          "output_type": "execute_result",
          "data": {
            "text/html": [
              "<img src=\"images/processo.png\"/>"
            ],
            "text/plain": [
              "<IPython.core.display.Image object>"
            ]
          },
          "metadata": {
            "tags": []
          },
          "execution_count": 1
        }
      ]
    },
    {
      "cell_type": "code",
      "metadata": {
        "id": "peCL8w37-dJi",
        "colab_type": "code",
        "colab": {},
        "outputId": "1081ad62-4cfd-432d-aede-49ff5647fbd3"
      },
      "source": [
        "import sklearn as sl\n",
        "import warnings\n",
        "warnings.filterwarnings(\"ignore\")\n",
        "sl.__version__"
      ],
      "execution_count": null,
      "outputs": [
        {
          "output_type": "execute_result",
          "data": {
            "text/plain": [
              "'0.20.3'"
            ]
          },
          "metadata": {
            "tags": []
          },
          "execution_count": 2
        }
      ]
    },
    {
      "cell_type": "markdown",
      "metadata": {
        "id": "34BaRVHm-dJr",
        "colab_type": "text"
      },
      "source": [
        "## Definição do Problema de Negócio"
      ]
    },
    {
      "cell_type": "markdown",
      "metadata": {
        "id": "Y74U47HU-dJt",
        "colab_type": "text"
      },
      "source": [
        "Vamos criar um modelo preditivo que seja capaz de prever o preço de casas com base em uma série de variáveis (características) sobre diversas casas em um bairro de Boston, cidade dos EUA.\n",
        "\n",
        "Dataset: https://www.cs.toronto.edu/~delve/data/boston/bostonDetail.html"
      ]
    },
    {
      "cell_type": "markdown",
      "metadata": {
        "id": "Y9bsI0rT-dJu",
        "colab_type": "text"
      },
      "source": [
        "## Avaliando a Performance"
      ]
    },
    {
      "cell_type": "markdown",
      "metadata": {
        "id": "Ib_wPl_c-dJw",
        "colab_type": "text"
      },
      "source": [
        "https://scikit-learn.org/stable/modules/model_evaluation.html"
      ]
    },
    {
      "cell_type": "markdown",
      "metadata": {
        "id": "w9xXZS0r-dJx",
        "colab_type": "text"
      },
      "source": [
        "As métricas que você escolhe para avaliar a performance do modelo vão influenciar a forma como a performance é medida e comparada com modelos criados com outros algoritmos."
      ]
    },
    {
      "cell_type": "markdown",
      "metadata": {
        "id": "5frmIoo0-dJz",
        "colab_type": "text"
      },
      "source": [
        "### Métricas para Algoritmos de Regressão"
      ]
    },
    {
      "cell_type": "markdown",
      "metadata": {
        "id": "j4fm2lCp-dJ0",
        "colab_type": "text"
      },
      "source": [
        "Métricas Para Avaliar Modelos de Regressão\n",
        "\n",
        "- Mean Squared Error (MSE)\n",
        "- Root Mean Squared Error (RMSE)\n",
        "- Mean Absolute Error (MAE)\n",
        "- R Squared (R²)\n",
        "- Adjusted R Squared (R²)\n",
        "- Mean Square Percentage Error (MSPE)\n",
        "- Mean Absolute Percentage Error (MAPE)\n",
        "- Root Mean Squared Logarithmic Error (RMSLE)\n"
      ]
    },
    {
      "cell_type": "code",
      "metadata": {
        "id": "_K-mnDlf-dJ1",
        "colab_type": "code",
        "colab": {},
        "outputId": "c1162895-687a-40ed-a832-43198963aa8f"
      },
      "source": [
        "from IPython.display import Image\n",
        "Image(url = 'images/mse.png')"
      ],
      "execution_count": null,
      "outputs": [
        {
          "output_type": "execute_result",
          "data": {
            "text/html": [
              "<img src=\"images/mse.png\"/>"
            ],
            "text/plain": [
              "<IPython.core.display.Image object>"
            ]
          },
          "metadata": {
            "tags": []
          },
          "execution_count": 3
        }
      ]
    },
    {
      "cell_type": "code",
      "metadata": {
        "id": "oniWvgao-dJ6",
        "colab_type": "code",
        "colab": {},
        "outputId": "d2cc842e-e23b-4b90-a31e-b4bc36c5c530"
      },
      "source": [
        "from IPython.display import Image\n",
        "Image(url = 'images/rmse.png')"
      ],
      "execution_count": null,
      "outputs": [
        {
          "output_type": "execute_result",
          "data": {
            "text/html": [
              "<img src=\"images/rmse.png\"/>"
            ],
            "text/plain": [
              "<IPython.core.display.Image object>"
            ]
          },
          "metadata": {
            "tags": []
          },
          "execution_count": 4
        }
      ]
    },
    {
      "cell_type": "code",
      "metadata": {
        "id": "Hz_-trYc-dJ-",
        "colab_type": "code",
        "colab": {},
        "outputId": "bda5ecb5-dfab-4524-911a-31b37b28b6e8"
      },
      "source": [
        "from IPython.display import Image\n",
        "Image(url = 'images/mae.png')"
      ],
      "execution_count": null,
      "outputs": [
        {
          "output_type": "execute_result",
          "data": {
            "text/html": [
              "<img src=\"images/mae.png\"/>"
            ],
            "text/plain": [
              "<IPython.core.display.Image object>"
            ]
          },
          "metadata": {
            "tags": []
          },
          "execution_count": 5
        }
      ]
    },
    {
      "cell_type": "code",
      "metadata": {
        "id": "v9JUC-d9-dKC",
        "colab_type": "code",
        "colab": {},
        "outputId": "8bce4002-98a7-4add-c8e6-ff8d1ed481fe"
      },
      "source": [
        "from IPython.display import Image\n",
        "Image(url = 'images/r2.png')"
      ],
      "execution_count": null,
      "outputs": [
        {
          "output_type": "execute_result",
          "data": {
            "text/html": [
              "<img src=\"images/r2.png\"/>"
            ],
            "text/plain": [
              "<IPython.core.display.Image object>"
            ]
          },
          "metadata": {
            "tags": []
          },
          "execution_count": 6
        }
      ]
    },
    {
      "cell_type": "markdown",
      "metadata": {
        "id": "tCi2xdmy-dKF",
        "colab_type": "text"
      },
      "source": [
        "Como vamos agora estudar as métricas para regressão, usaremos outro dataset, o Boston Houses."
      ]
    },
    {
      "cell_type": "markdown",
      "metadata": {
        "id": "TgqOq_c--dKG",
        "colab_type": "text"
      },
      "source": [
        "#### MSE\n",
        "\n",
        "É talvez a métrica mais simples e comum para a avaliação de regressão, mas também provavelmente a menos útil. O MSE basicamente mede o erro quadrado médio de nossas previsões. Para cada ponto, calcula a diferença quadrada entre as previsões e o valor real da variável alvo e, em seguida, calcula a média desses valores.\n",
        "\n",
        "Quanto maior esse valor, pior é o modelo. Esse valor nunca será negativo, já que estamos elevando ao quadrado os erros individuais de previsão, mas seria zero para um modelo perfeito."
      ]
    },
    {
      "cell_type": "code",
      "metadata": {
        "id": "upcuwM4V-dKG",
        "colab_type": "code",
        "colab": {},
        "outputId": "9378c384-8a19-4a70-a67d-59c6cac23881"
      },
      "source": [
        "# MSE - Mean Squared Error\n",
        "# Similar ao MAE, fornece a magnitude do erro do modelo.\n",
        "# Quanto maior, pior é o modelo!\n",
        "# Ao extrairmos a raiz quadrada do MSE convertemos as unidades de volta ao original, \n",
        "# o que pode ser útil para descrição e apresentação. Isso é chamado RMSE (Root Mean Squared Error)\n",
        "\n",
        "# Import dos módulos\n",
        "from pandas import read_csv\n",
        "from sklearn.model_selection import train_test_split\n",
        "from sklearn.metrics import mean_squared_error\n",
        "from sklearn.linear_model import LinearRegression\n",
        "\n",
        "# Carregando os dados\n",
        "arquivo = 'data/boston-houses.csv'\n",
        "colunas = ['CRIM', 'ZN', 'INDUS', 'CHAS', 'NOX', 'RM', 'AGE', 'DIS', 'RAD', 'TAX', 'PTRATIO','B', 'LSTAT', 'MEDV']\n",
        "dados = read_csv(arquivo, delim_whitespace = True, names = colunas)\n",
        "array = dados.values\n",
        "\n",
        "# Separando o array em componentes de input e output\n",
        "X = array[:,0:13]\n",
        "Y = array[:,13]\n",
        "\n",
        "# Divide os dados em treino e teste\n",
        "X_train, X_test, Y_train, Y_test = train_test_split(X, Y, test_size = 0.33, random_state = 5)\n",
        "\n",
        "# Criando o modelo\n",
        "modelo = LinearRegression()\n",
        "\n",
        "# Treinando o modelo\n",
        "modelo.fit(X_train, Y_train)\n",
        "\n",
        "# Fazendo previsões\n",
        "Y_pred = modelo.predict(X_test)\n",
        "\n",
        "# Resultado\n",
        "mse = mean_squared_error(Y_test, Y_pred)\n",
        "print(\"O MSE do modelo é:\", mse)"
      ],
      "execution_count": null,
      "outputs": [
        {
          "output_type": "stream",
          "text": [
            "O MSE do modelo é: 28.53045876597469\n"
          ],
          "name": "stdout"
        }
      ]
    },
    {
      "cell_type": "markdown",
      "metadata": {
        "id": "zWzARW3j-dKK",
        "colab_type": "text"
      },
      "source": [
        "#### MAE"
      ]
    },
    {
      "cell_type": "code",
      "metadata": {
        "id": "4fX63vy3-dKK",
        "colab_type": "code",
        "colab": {},
        "outputId": "3a55fda2-17a7-4dcf-dbb0-d47f37373744"
      },
      "source": [
        "# MAE\n",
        "# Mean Absolute Error\n",
        "# É a soma da diferença absoluta entre previsões e valores reais.\n",
        "# Fornece uma ideia de quão erradas estão nossas previsões.\n",
        "# Valor igual a 0 indica que não há erro, sendo a previsão perfeita.\n",
        "\n",
        "# Import dos módulos\n",
        "from pandas import read_csv\n",
        "from sklearn.model_selection import train_test_split\n",
        "from sklearn.metrics import mean_absolute_error\n",
        "from sklearn.linear_model import LinearRegression\n",
        "\n",
        "# Carregando os dados\n",
        "arquivo = 'data/boston-houses.csv'\n",
        "colunas = ['CRIM', 'ZN', 'INDUS', 'CHAS', 'NOX', 'RM', 'AGE', 'DIS', 'RAD', 'TAX', 'PTRATIO','B', 'LSTAT', 'MEDV']\n",
        "dados = read_csv(arquivo, delim_whitespace = True, names = colunas)\n",
        "array = dados.values\n",
        "\n",
        "# Separando o array em componentes de input e output\n",
        "X = array[:,0:13]\n",
        "Y = array[:,13]\n",
        "\n",
        "# Divide os dados em treino e teste\n",
        "X_train, X_test, Y_train, Y_test = train_test_split(X, Y, test_size = 0.33, random_state = 5)\n",
        "\n",
        "# Criando o modelo\n",
        "modelo = LinearRegression()\n",
        "\n",
        "# Treinando o modelo\n",
        "modelo.fit(X_train, Y_train)\n",
        "\n",
        "# Fazendo previsões\n",
        "Y_pred = modelo.predict(X_test)\n",
        "\n",
        "# Resultado\n",
        "mae = mean_absolute_error(Y_test, Y_pred)\n",
        "print(\"O MAE do modelo é:\", mae)"
      ],
      "execution_count": null,
      "outputs": [
        {
          "output_type": "stream",
          "text": [
            "O MAE do modelo é: 3.455034932248351\n"
          ],
          "name": "stdout"
        }
      ]
    },
    {
      "cell_type": "markdown",
      "metadata": {
        "id": "uNGjFbt4-dKN",
        "colab_type": "text"
      },
      "source": [
        "### R^2"
      ]
    },
    {
      "cell_type": "code",
      "metadata": {
        "id": "lLJpL8Mk-dKO",
        "colab_type": "code",
        "colab": {},
        "outputId": "6f87829a-9c3b-4d83-862c-bd88566db743"
      },
      "source": [
        "# R^2\n",
        "# Essa métrica fornece uma indicação do nível de precisão das previsões em relação aos valores observados.\n",
        "# Também chamado de coeficiente de determinação.\n",
        "# Valores entre 0 e 1, sendo 0 o valor ideal.\n",
        "\n",
        "# Import dos módulos\n",
        "from pandas import read_csv\n",
        "from sklearn.model_selection import train_test_split\n",
        "from sklearn.metrics import r2_score\n",
        "from sklearn.linear_model import LinearRegression\n",
        "\n",
        "# Carregando os dados\n",
        "arquivo = 'data/boston-houses.csv'\n",
        "colunas = ['CRIM', 'ZN', 'INDUS', 'CHAS', 'NOX', 'RM', 'AGE', 'DIS', 'RAD', 'TAX', 'PTRATIO','B', 'LSTAT', 'MEDV']\n",
        "dados = read_csv(arquivo, delim_whitespace = True, names = colunas)\n",
        "array = dados.values\n",
        "\n",
        "# Separando o array em componentes de input e output\n",
        "X = array[:,0:13]\n",
        "Y = array[:,13]\n",
        "\n",
        "# Divide os dados em treino e teste\n",
        "X_train, X_test, Y_train, Y_test = train_test_split(X, Y, test_size = 0.33, random_state = 5)\n",
        "\n",
        "# Criando o modelo\n",
        "modelo = LinearRegression()\n",
        "\n",
        "# Treinando o modelo\n",
        "modelo.fit(X_train, Y_train)\n",
        "\n",
        "# Fazendo previsões\n",
        "Y_pred = modelo.predict(X_test)\n",
        "\n",
        "# Resultado\n",
        "r2 = r2_score(Y_test, Y_pred)\n",
        "print(\"O R2 do modelo é:\", r2)"
      ],
      "execution_count": null,
      "outputs": [
        {
          "output_type": "stream",
          "text": [
            "O R2 do modelo é: 0.6956551656111596\n"
          ],
          "name": "stdout"
        }
      ]
    },
    {
      "cell_type": "markdown",
      "metadata": {
        "id": "yXsBy9vr-dKR",
        "colab_type": "text"
      },
      "source": [
        "# Algoritmos de Regressão"
      ]
    },
    {
      "cell_type": "markdown",
      "metadata": {
        "id": "E6aItM3K-dKS",
        "colab_type": "text"
      },
      "source": [
        "## Regressão Linear"
      ]
    },
    {
      "cell_type": "markdown",
      "metadata": {
        "id": "0DbXz_uf-dKS",
        "colab_type": "text"
      },
      "source": [
        "Assume que os dados estão em Distribuição Normal e também assume que as variáveis são relevantes para a construção do modelo e que não sejam colineares, ou seja, variáveis com alta correlação (cabe a você, Cientista de Dados, entregar ao algoritmo as variáveis realmente relevantes)."
      ]
    },
    {
      "cell_type": "code",
      "metadata": {
        "id": "ZCqQ0olo-dKT",
        "colab_type": "code",
        "colab": {},
        "outputId": "08317b1f-baf2-4f09-acf3-80a2e4fbe8f3"
      },
      "source": [
        "# Import dos módulos\n",
        "from pandas import read_csv\n",
        "from sklearn.model_selection import train_test_split\n",
        "from sklearn.metrics import mean_squared_error\n",
        "from sklearn.linear_model import LinearRegression\n",
        "\n",
        "# Carregando os dados\n",
        "arquivo = 'data/boston-houses.csv'\n",
        "colunas = ['CRIM', 'ZN', 'INDUS', 'CHAS', 'NOX', 'RM', 'AGE', 'DIS', 'RAD', 'TAX', 'PTRATIO','B', 'LSTAT', 'MEDV']\n",
        "dados = read_csv(arquivo, delim_whitespace = True, names = colunas)\n",
        "array = dados.values\n",
        "\n",
        "# Separando o array em componentes de input e output\n",
        "X = array[:,0:13]\n",
        "Y = array[:,13]\n",
        "\n",
        "# Divide os dados em treino e teste\n",
        "X_train, X_test, Y_train, Y_test = train_test_split(X, Y, test_size = 0.33, random_state = 5)\n",
        "\n",
        "# Criando o modelo\n",
        "modelo = LinearRegression()\n",
        "\n",
        "# Treinando o modelo\n",
        "modelo.fit(X_train, Y_train)\n",
        "\n",
        "# Fazendo previsões\n",
        "Y_pred = modelo.predict(X_test)\n",
        "\n",
        "# Resultado\n",
        "mse = mean_squared_error(Y_test, Y_pred)\n",
        "print(\"O MSE do modelo é:\", mse)"
      ],
      "execution_count": null,
      "outputs": [
        {
          "output_type": "stream",
          "text": [
            "O MSE do modelo é: 28.53045876597469\n"
          ],
          "name": "stdout"
        }
      ]
    },
    {
      "cell_type": "markdown",
      "metadata": {
        "id": "TqdGaSjt-dKW",
        "colab_type": "text"
      },
      "source": [
        "## Ridge Regression"
      ]
    },
    {
      "cell_type": "markdown",
      "metadata": {
        "id": "HQg8BmbV-dKW",
        "colab_type": "text"
      },
      "source": [
        "Extensão para a regressão linear onde a loss function é modificada para minimizar a complexidade do modelo."
      ]
    },
    {
      "cell_type": "code",
      "metadata": {
        "id": "sdAt26eH-dKX",
        "colab_type": "code",
        "colab": {},
        "outputId": "b1cf8748-7f4f-44b0-910f-6c87eaa67b7e"
      },
      "source": [
        "# Import dos módulos\n",
        "from pandas import read_csv\n",
        "from sklearn.model_selection import train_test_split\n",
        "from sklearn.metrics import mean_squared_error\n",
        "from sklearn.linear_model import Ridge\n",
        "\n",
        "# Carregando os dados\n",
        "arquivo = 'data/boston-houses.csv'\n",
        "colunas = ['CRIM', 'ZN', 'INDUS', 'CHAS', 'NOX', 'RM', 'AGE', 'DIS', 'RAD', 'TAX', 'PTRATIO','B', 'LSTAT', 'MEDV']\n",
        "dados = read_csv(arquivo, delim_whitespace = True, names = colunas)\n",
        "array = dados.values\n",
        "\n",
        "# Separando o array em componentes de input e output\n",
        "X = array[:,0:13]\n",
        "Y = array[:,13]\n",
        "\n",
        "# Divide os dados em treino e teste\n",
        "X_train, X_test, Y_train, Y_test = train_test_split(X, Y, test_size = 0.33, random_state = 5)\n",
        "\n",
        "# Criando o modelo\n",
        "modelo = Ridge()\n",
        "\n",
        "# Treinando o modelo\n",
        "modelo.fit(X_train, Y_train)\n",
        "\n",
        "# Fazendo previsões\n",
        "Y_pred = modelo.predict(X_test)\n",
        "\n",
        "# Resultado\n",
        "mse = mean_squared_error(Y_test, Y_pred)\n",
        "print(\"O MSE do modelo é:\", mse)"
      ],
      "execution_count": null,
      "outputs": [
        {
          "output_type": "stream",
          "text": [
            "O MSE do modelo é: 29.29406201348501\n"
          ],
          "name": "stdout"
        }
      ]
    },
    {
      "cell_type": "markdown",
      "metadata": {
        "id": "BR5dEjZF-dKZ",
        "colab_type": "text"
      },
      "source": [
        "## Lasso Regression"
      ]
    },
    {
      "cell_type": "markdown",
      "metadata": {
        "id": "58KmOOVR-dKa",
        "colab_type": "text"
      },
      "source": [
        "Lasso (Least Absolute Shrinkage and Selection Operator) Regression é uma modificação da regressão linear e assim como a Ridge Regression, a loss function é modificada para minimizar a complexidade do modelo."
      ]
    },
    {
      "cell_type": "code",
      "metadata": {
        "id": "um-sheue-dKa",
        "colab_type": "code",
        "colab": {},
        "outputId": "bafcf117-9e72-461c-9453-36ebee14eeb1"
      },
      "source": [
        "# Import dos módulos\n",
        "from pandas import read_csv\n",
        "from sklearn.model_selection import train_test_split\n",
        "from sklearn.metrics import mean_squared_error\n",
        "from sklearn.linear_model import Lasso\n",
        "\n",
        "# Carregando os dados\n",
        "arquivo = 'data/boston-houses.csv'\n",
        "colunas = ['CRIM', 'ZN', 'INDUS', 'CHAS', 'NOX', 'RM', 'AGE', 'DIS', 'RAD', 'TAX', 'PTRATIO','B', 'LSTAT', 'MEDV']\n",
        "dados = read_csv(arquivo, delim_whitespace = True, names = colunas)\n",
        "array = dados.values\n",
        "\n",
        "# Separando o array em componentes de input e output\n",
        "X = array[:,0:13]\n",
        "Y = array[:,13]\n",
        "\n",
        "# Divide os dados em treino e teste\n",
        "X_train, X_test, Y_train, Y_test = train_test_split(X, Y, test_size = 0.33, random_state = 5)\n",
        "\n",
        "# Criando o modelo\n",
        "modelo = Lasso()\n",
        "\n",
        "# Treinando o modelo\n",
        "modelo.fit(X_train, Y_train)\n",
        "\n",
        "# Fazendo previsões\n",
        "Y_pred = modelo.predict(X_test)\n",
        "\n",
        "# Resultado\n",
        "mse = mean_squared_error(Y_test, Y_pred)\n",
        "print(\"O MSE do modelo é:\", mse)"
      ],
      "execution_count": null,
      "outputs": [
        {
          "output_type": "stream",
          "text": [
            "O MSE do modelo é: 33.39451439004989\n"
          ],
          "name": "stdout"
        }
      ]
    },
    {
      "cell_type": "markdown",
      "metadata": {
        "id": "FsourIi_-dKd",
        "colab_type": "text"
      },
      "source": [
        "## ElasticNet Regression"
      ]
    },
    {
      "cell_type": "markdown",
      "metadata": {
        "id": "fyT8WXqW-dKd",
        "colab_type": "text"
      },
      "source": [
        "ElasticNet é uma forma de regularização da regressão que combina as propriedades da regressão Ridge e LASSO. O objetivo é minimizar a complexidade do modelo, penalizando o modelo usando a soma dos quadrados dos coeficientes."
      ]
    },
    {
      "cell_type": "code",
      "metadata": {
        "id": "eMq10V8D-dKe",
        "colab_type": "code",
        "colab": {},
        "outputId": "20c85470-71a1-4aca-8fb8-40cb621830b5"
      },
      "source": [
        "# Import dos módulos\n",
        "from pandas import read_csv\n",
        "from sklearn.model_selection import train_test_split\n",
        "from sklearn.metrics import mean_squared_error\n",
        "from sklearn.linear_model import ElasticNet\n",
        "\n",
        "# Carregando os dados\n",
        "arquivo = 'data/boston-houses.csv'\n",
        "colunas = ['CRIM', 'ZN', 'INDUS', 'CHAS', 'NOX', 'RM', 'AGE', 'DIS', 'RAD', 'TAX', 'PTRATIO','B', 'LSTAT', 'MEDV']\n",
        "dados = read_csv(arquivo, delim_whitespace = True, names = colunas)\n",
        "array = dados.values\n",
        "\n",
        "# Separando o array em componentes de input e output\n",
        "X = array[:,0:13]\n",
        "Y = array[:,13]\n",
        "\n",
        "# Divide os dados em treino e teste\n",
        "X_train, X_test, Y_train, Y_test = train_test_split(X, Y, test_size = 0.33, random_state = 5)\n",
        "\n",
        "# Criando o modelo\n",
        "modelo = ElasticNet()\n",
        "\n",
        "# Treinando o modelo\n",
        "modelo.fit(X_train, Y_train)\n",
        "\n",
        "# Fazendo previsões\n",
        "Y_pred = modelo.predict(X_test)\n",
        "\n",
        "# Resultado\n",
        "mse = mean_squared_error(Y_test, Y_pred)\n",
        "print(\"O MSE do modelo é:\", mse)"
      ],
      "execution_count": null,
      "outputs": [
        {
          "output_type": "stream",
          "text": [
            "O MSE do modelo é: 33.27255150876939\n"
          ],
          "name": "stdout"
        }
      ]
    },
    {
      "cell_type": "markdown",
      "metadata": {
        "id": "1snciwBo-dKh",
        "colab_type": "text"
      },
      "source": [
        "## KNN"
      ]
    },
    {
      "cell_type": "code",
      "metadata": {
        "id": "aFVvJmKH-dKh",
        "colab_type": "code",
        "colab": {},
        "outputId": "1c5c6ebe-c900-484d-864a-444e65d76596"
      },
      "source": [
        "# Import dos módulos\n",
        "from pandas import read_csv\n",
        "from sklearn.model_selection import train_test_split\n",
        "from sklearn.metrics import mean_squared_error\n",
        "from sklearn.neighbors import KNeighborsRegressor\n",
        "\n",
        "# Carregando os dados\n",
        "arquivo = 'data/boston-houses.csv'\n",
        "colunas = ['CRIM', 'ZN', 'INDUS', 'CHAS', 'NOX', 'RM', 'AGE', 'DIS', 'RAD', 'TAX', 'PTRATIO','B', 'LSTAT', 'MEDV']\n",
        "dados = read_csv(arquivo, delim_whitespace = True, names = colunas)\n",
        "array = dados.values\n",
        "\n",
        "# Separando o array em componentes de input e output\n",
        "X = array[:,0:13]\n",
        "Y = array[:,13]\n",
        "\n",
        "# Divide os dados em treino e teste\n",
        "X_train, X_test, Y_train, Y_test = train_test_split(X, Y, test_size = 0.33, random_state = 5)\n",
        "\n",
        "# Criando o modelo\n",
        "modelo = KNeighborsRegressor()\n",
        "\n",
        "# Treinando o modelo\n",
        "modelo.fit(X_train, Y_train)\n",
        "\n",
        "# Fazendo previsões\n",
        "Y_pred = modelo.predict(X_test)\n",
        "\n",
        "# Resultado\n",
        "mse = mean_squared_error(Y_test, Y_pred)\n",
        "print(\"O MSE do modelo é:\", mse)"
      ],
      "execution_count": null,
      "outputs": [
        {
          "output_type": "stream",
          "text": [
            "O MSE do modelo é: 47.70591377245509\n"
          ],
          "name": "stdout"
        }
      ]
    },
    {
      "cell_type": "markdown",
      "metadata": {
        "id": "p6hTmiko-dKk",
        "colab_type": "text"
      },
      "source": [
        "## CART"
      ]
    },
    {
      "cell_type": "code",
      "metadata": {
        "id": "3mFEtF0W-dKk",
        "colab_type": "code",
        "colab": {},
        "outputId": "accce5ec-3eed-4155-8a7e-fe62c67e8a9e"
      },
      "source": [
        "# Import dos módulos\n",
        "from pandas import read_csv\n",
        "from sklearn.model_selection import train_test_split\n",
        "from sklearn.metrics import mean_squared_error\n",
        "from sklearn.tree import DecisionTreeRegressor\n",
        "\n",
        "# Carregando os dados\n",
        "arquivo = 'data/boston-houses.csv'\n",
        "colunas = ['CRIM', 'ZN', 'INDUS', 'CHAS', 'NOX', 'RM', 'AGE', 'DIS', 'RAD', 'TAX', 'PTRATIO','B', 'LSTAT', 'MEDV']\n",
        "dados = read_csv(arquivo, delim_whitespace = True, names = colunas)\n",
        "array = dados.values\n",
        "\n",
        "# Separando o array em componentes de input e output\n",
        "X = array[:,0:13]\n",
        "Y = array[:,13]\n",
        "\n",
        "# Divide os dados em treino e teste\n",
        "X_train, X_test, Y_train, Y_test = train_test_split(X, Y, test_size = 0.33, random_state = 5)\n",
        "\n",
        "# Criando o modelo\n",
        "modelo = DecisionTreeRegressor()\n",
        "\n",
        "# Treinando o modelo\n",
        "modelo.fit(X_train, Y_train)\n",
        "\n",
        "# Fazendo previsões\n",
        "Y_pred = modelo.predict(X_test)\n",
        "\n",
        "# Resultado\n",
        "mse = mean_squared_error(Y_test, Y_pred)\n",
        "print(\"O MSE do modelo é:\", mse)"
      ],
      "execution_count": null,
      "outputs": [
        {
          "output_type": "stream",
          "text": [
            "O MSE do modelo é: 35.32329341317365\n"
          ],
          "name": "stdout"
        }
      ]
    },
    {
      "cell_type": "markdown",
      "metadata": {
        "id": "rBhirG72-dKn",
        "colab_type": "text"
      },
      "source": [
        "## SVM"
      ]
    },
    {
      "cell_type": "code",
      "metadata": {
        "id": "EFuMqP2x-dKn",
        "colab_type": "code",
        "colab": {},
        "outputId": "335b6af0-0254-4aab-9f14-b9a039ae9e4f"
      },
      "source": [
        "# Import dos módulos\n",
        "from pandas import read_csv\n",
        "from sklearn.model_selection import train_test_split\n",
        "from sklearn.metrics import mean_squared_error\n",
        "from sklearn.svm import SVR\n",
        "\n",
        "# Carregando os dados\n",
        "arquivo = 'data/boston-houses.csv'\n",
        "colunas = ['CRIM', 'ZN', 'INDUS', 'CHAS', 'NOX', 'RM', 'AGE', 'DIS', 'RAD', 'TAX', 'PTRATIO','B', 'LSTAT', 'MEDV']\n",
        "dados = read_csv(arquivo, delim_whitespace = True, names = colunas)\n",
        "array = dados.values\n",
        "\n",
        "# Separando o array em componentes de input e output\n",
        "X = array[:,0:13]\n",
        "Y = array[:,13]\n",
        "\n",
        "# Divide os dados em treino e teste\n",
        "X_train, X_test, Y_train, Y_test = train_test_split(X, Y, test_size = 0.33, random_state = 5)\n",
        "\n",
        "# Criando o modelo\n",
        "modelo = SVR()\n",
        "\n",
        "# Treinando o modelo\n",
        "modelo.fit(X_train, Y_train)\n",
        "\n",
        "# Fazendo previsões\n",
        "Y_pred = modelo.predict(X_test)\n",
        "\n",
        "# Resultado\n",
        "mse = mean_squared_error(Y_test, Y_pred)\n",
        "print(\"O MSE do modelo é:\", mse)"
      ],
      "execution_count": null,
      "outputs": [
        {
          "output_type": "stream",
          "text": [
            "O MSE do modelo é: 93.21909995717193\n"
          ],
          "name": "stdout"
        }
      ]
    },
    {
      "cell_type": "markdown",
      "metadata": {
        "id": "G5Q8gcj8-dKq",
        "colab_type": "text"
      },
      "source": [
        "## Otimização do Modelo - Ajuste de Parâmetros"
      ]
    },
    {
      "cell_type": "markdown",
      "metadata": {
        "id": "Fe7jHWB_-dKq",
        "colab_type": "text"
      },
      "source": [
        "Todos os algoritmos de Machine Learning são parametrizados, o que significa que você pode ajustar a performance do seu modelo preditivo, através do tuning (ajuste fino) dos parâmetros. Seu trabalho é encontrar a melhor combinação entre os parâmetros em cada algoritmo de Machine Learning. Esse processo também é chamado de Otimização Hyperparâmetro. O scikit-learn oferece dois métodos para otimização automática dos parâmetros: Grid Search Parameter Tuning e Random Search Parameter Tuning. "
      ]
    },
    {
      "cell_type": "markdown",
      "metadata": {
        "id": "NFjz_5fB-dKr",
        "colab_type": "text"
      },
      "source": [
        "### Grid Search Parameter Tuning"
      ]
    },
    {
      "cell_type": "markdown",
      "metadata": {
        "id": "GSRDKC6f-dKr",
        "colab_type": "text"
      },
      "source": [
        "Este método realiza metodicamente combinações entre todos os parâmetros do algoritmo, criando um grid. Vamos experimentar este método utilizando o algoritmo de Regressão Ridge. No exemplo abaixo veremos que o valor 1 para o parâmetro alpha atingiu a melhor performance."
      ]
    },
    {
      "cell_type": "code",
      "metadata": {
        "id": "Vk4nY8XW-dKr",
        "colab_type": "code",
        "colab": {},
        "outputId": "a41a9a33-e4b5-4a38-dbd4-22fc5d8aa932"
      },
      "source": [
        "# Import dos módulos\n",
        "from pandas import read_csv\n",
        "import numpy as np\n",
        "from sklearn.model_selection import GridSearchCV\n",
        "from sklearn.linear_model import Ridge\n",
        "\n",
        "# Carregando os dados\n",
        "arquivo = 'data/boston-houses.csv'\n",
        "colunas = ['CRIM', 'ZN', 'INDUS', 'CHAS', 'NOX', 'RM', 'AGE', 'DIS', 'RAD', 'TAX', 'PTRATIO','B', 'LSTAT', 'MEDV']\n",
        "dados = read_csv(arquivo, delim_whitespace = True, names = colunas)\n",
        "array = dados.values\n",
        "\n",
        "# Separando o array em componentes de input e output\n",
        "X = array[:,0:8]\n",
        "Y = array[:,8]\n",
        "\n",
        "# Definindo os valores que serão testados\n",
        "valores_alphas = np.array([1,0.1,0.01,0.001,0.0001,0])\n",
        "valores_grid = dict(alpha = valores_alphas)\n",
        "\n",
        "# Criando o modelo\n",
        "modelo = Ridge()\n",
        "\n",
        "# Criando o grid\n",
        "grid = GridSearchCV(estimator = modelo, param_grid = valores_grid)\n",
        "grid.fit(X, Y)\n",
        "\n",
        "# Print do resultado\n",
        "print(\"Melhores Parâmetros do Modelo:\\n\", grid.best_estimator_)"
      ],
      "execution_count": null,
      "outputs": [
        {
          "output_type": "stream",
          "text": [
            "Melhores Parâmetros do Modelo:\n",
            " Ridge(alpha=1.0, copy_X=True, fit_intercept=True, max_iter=None,\n",
            "   normalize=False, random_state=None, solver='auto', tol=0.001)\n"
          ],
          "name": "stdout"
        }
      ]
    },
    {
      "cell_type": "markdown",
      "metadata": {
        "id": "T6LIJZQf-dKu",
        "colab_type": "text"
      },
      "source": [
        "### Random Search Parameter Tuning"
      ]
    },
    {
      "cell_type": "markdown",
      "metadata": {
        "id": "qhOLOSIc-dKv",
        "colab_type": "text"
      },
      "source": [
        "Este método gera amostras dos parâmetros dos algoritmos a partir de uma distribuição randômica uniforme para um número fixo de interações. Um modelo é construído e testado para cada combinação de parâmetros. Neste exemplo veremos que o valor muito próximo de 1 para o parâmetro alpha é o que vai apresentar os melhores resultados."
      ]
    },
    {
      "cell_type": "code",
      "metadata": {
        "id": "Hs8w6QEu-dKv",
        "colab_type": "code",
        "colab": {},
        "outputId": "a74db222-33d5-439c-b82d-3376f53e2a8b"
      },
      "source": [
        "# Import dos módulos\n",
        "from pandas import read_csv\n",
        "import numpy as np\n",
        "from scipy.stats import uniform\n",
        "from sklearn.linear_model import Ridge\n",
        "from sklearn.model_selection import RandomizedSearchCV\n",
        "\n",
        "# Carregando os dados\n",
        "arquivo = 'data/boston-houses.csv'\n",
        "colunas = ['CRIM', 'ZN', 'INDUS', 'CHAS', 'NOX', 'RM', 'AGE', 'DIS', 'RAD', 'TAX', 'PTRATIO','B', 'LSTAT', 'MEDV']\n",
        "dados = read_csv(arquivo, delim_whitespace = True, names = colunas)\n",
        "array = dados.values\n",
        "\n",
        "# Separando o array em componentes de input e output\n",
        "X = array[:,0:8]\n",
        "Y = array[:,8]\n",
        "\n",
        "# Definindo os valores que serão testados\n",
        "valores_grid = {'alpha': uniform()}\n",
        "seed = 7\n",
        "\n",
        "# Criando o modelo\n",
        "modelo = Ridge()\n",
        "iterations = 100\n",
        "rsearch = RandomizedSearchCV(estimator = modelo, \n",
        "                             param_distributions = valores_grid, \n",
        "                             n_iter = iterations, \n",
        "                             random_state = seed)\n",
        "rsearch.fit(X, Y)\n",
        "\n",
        "# Print do resultado\n",
        "print(\"Melhores Parâmetros do Modelo:\\n\", rsearch.best_estimator_)"
      ],
      "execution_count": null,
      "outputs": [
        {
          "output_type": "stream",
          "text": [
            "Melhores Parâmetros do Modelo:\n",
            " Ridge(alpha=0.9779895119966027, copy_X=True, fit_intercept=True,\n",
            "   max_iter=None, normalize=False, random_state=None, solver='auto',\n",
            "   tol=0.001)\n"
          ],
          "name": "stdout"
        }
      ]
    },
    {
      "cell_type": "markdown",
      "metadata": {
        "id": "hVRsbUgk-dKy",
        "colab_type": "text"
      },
      "source": [
        "# Salvando o resultado do seu trabalho"
      ]
    },
    {
      "cell_type": "code",
      "metadata": {
        "id": "o29n4iNg-dKy",
        "colab_type": "code",
        "colab": {},
        "outputId": "2e82f3a3-9a77-4f97-c0db-b6e57683ebfd"
      },
      "source": [
        "# Import dos módulos\n",
        "from pandas import read_csv\n",
        "from sklearn.model_selection import train_test_split\n",
        "from sklearn.metrics import mean_squared_error\n",
        "from sklearn.linear_model import Ridge\n",
        "import pickle\n",
        "\n",
        "# Carregando os dados\n",
        "arquivo = 'data/boston-houses.csv'\n",
        "colunas = ['CRIM', 'ZN', 'INDUS', 'CHAS', 'NOX', 'RM', 'AGE', 'DIS', 'RAD', 'TAX', 'PTRATIO','B', 'LSTAT', 'MEDV']\n",
        "dados = read_csv(arquivo, delim_whitespace = True, names = colunas)\n",
        "array = dados.values\n",
        "\n",
        "# Separando o array em componentes de input e output\n",
        "X = array[:,0:13]\n",
        "Y = array[:,13]\n",
        "\n",
        "# Definindo os valores para o número de folds\n",
        "teste_size = 0.35\n",
        "seed = 7\n",
        "\n",
        "# Criando o dataset de treino e de teste\n",
        "X_treino, X_teste, Y_treino, Y_teste = train_test_split(X, Y, test_size = teste_size, random_state = seed)\n",
        "\n",
        "# Criando o modelo\n",
        "modelo = Ridge()\n",
        "\n",
        "# Treinando o modelo\n",
        "modelo.fit(X_treino, Y_treino)\n",
        "\n",
        "# Salvando o modelo\n",
        "arquivo = 'modelos/modelo_regressor_final.sav'\n",
        "pickle.dump(modelo, open(arquivo, 'wb'))\n",
        "print(\"Modelo salvo!\")\n",
        "\n",
        "# Carregando o arquivo\n",
        "modelo_regressor_final = pickle.load(open(arquivo, 'rb'))\n",
        "print(\"Modelo carregado!\")\n",
        "\n",
        "# Print do resultado\n",
        "# Fazendo previsões\n",
        "Y_pred = modelo_regressor_final.predict(X_test)\n",
        "\n",
        "# Resultado\n",
        "mse = mean_squared_error(Y_test, Y_pred)\n",
        "print(\"O MSE do modelo é:\", mse)"
      ],
      "execution_count": null,
      "outputs": [
        {
          "output_type": "stream",
          "text": [
            "Modelo salvo!\n",
            "Modelo carregado!\n",
            "O MSE do modelo é: 27.32316713717489\n"
          ],
          "name": "stdout"
        }
      ]
    },
    {
      "cell_type": "markdown",
      "metadata": {
        "collapsed": true,
        "id": "API1noGH-dK1",
        "colab_type": "text"
      },
      "source": [
        "# Fim"
      ]
    },
    {
      "cell_type": "markdown",
      "metadata": {
        "id": "XOJzkYvp-dK1",
        "colab_type": "text"
      },
      "source": [
        "### Obrigado - Data Science Academy - <a href=\"http://facebook.com/dsacademybr\">facebook.com/dsacademybr</a>"
      ]
    }
  ]
}